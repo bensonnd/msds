{
 "cells": [
  {
   "cell_type": "markdown",
   "id": "b60a49f5",
   "metadata": {},
   "source": [
    "# DS7337 NLP - HW 1\n",
    "#### Neil Benson\n",
    "\n",
    "1.Follow the instructions in chapter 1 of Bird-Klein for implementing a “lexical diversity” scoring routine. book link\n",
    "\n",
    "2.Go to http://www.gutenberg.org/wiki/Children%27s_Instructional_Books_(Bookshelf), and obtain three texts (of different grade levels) from the “Graded Readers” section. \n",
    "  \n",
    "* [McGuffey's First Eclectic Reader, Revised Edition](https://www.gutenberg.org/cache/epub/14640/pg14640.txt)\n",
    "* [McGuffey's Sixth Eclectic Reader](https://www.gutenberg.org/cache/epub/16751/pg16751.txt)\n",
    "* [The Ontario Readers: The High School Reader, 1886](https://www.gutenberg.org/cache/epub/19923/pg19923.txt)\n"
   ]
  },
  {
   "cell_type": "code",
   "execution_count": 22,
   "id": "421d770e",
   "metadata": {},
   "outputs": [
    {
     "name": "stderr",
     "output_type": "stream",
     "text": [
      "[nltk_data] Downloading package punkt to /home/bensonnd/nltk_data...\n",
      "[nltk_data]   Package punkt is already up-to-date!\n"
     ]
    },
    {
     "data": {
      "text/plain": [
       "True"
      ]
     },
     "execution_count": 22,
     "metadata": {},
     "output_type": "execute_result"
    }
   ],
   "source": [
    "import requests\n",
    "import nltk\n",
    "import re\n",
    "\n",
    "nltk.download(\"punkt\")"
   ]
  },
  {
   "cell_type": "code",
   "execution_count": 23,
   "id": "0fc10466",
   "metadata": {},
   "outputs": [],
   "source": [
    "# tokenize the text and make it an NTLK text class\n",
    "def get_text_tokens(decoded_text):\n",
    "    tokens = nltk.word_tokenize(decoded_text)\n",
    "    text = nltk.Text(tokens)\n",
    "    return text\n",
    "\n",
    "\n",
    "# get the text as raw string format, return title and text\n",
    "def text_getter(target_url):\n",
    "    \"\"\"\n",
    "    Retrieves book text from a url and returns decoded text for nl analysis\n",
    "    param:\n",
    "        target_url (str): the url to retrieve the book text from\n",
    "    return:\n",
    "        decoded_text: the book text decoded\n",
    "    \"\"\"\n",
    "    response = requests.get(target_url)\n",
    "    decoded_text = response.text\n",
    "\n",
    "    return book_title(decoded_text), get_text_tokens(decoded_text)\n",
    "\n",
    "\n",
    "# calculate the lexical diversity\n",
    "def lexical_diversity(book_text):\n",
    "    \"\"\"\n",
    "    Calculates the lexical diversity of the book text.\n",
    "    param:\n",
    "        book_text: The text of the book to calculate word count and vocaulary size\n",
    "    return:\n",
    "        diversity_score: The unique number of words in a book divided by the total words used in the book.\n",
    "\n",
    "    \"\"\"\n",
    "    vocabulary_size = len(set(book_text))\n",
    "    total_word_count = len(book_text)\n",
    "    lexical_diversity = vocabulary_size / total_word_count\n",
    "    return lexical_diversity\n",
    "\n",
    "\n",
    "# get the book titles\n",
    "def book_title(book_text):\n",
    "    \"\"\"\n",
    "    Extracts the title of a book.\n",
    "    param:\n",
    "        book_text: The text of the book to extract the book title from.\n",
    "    return:\n",
    "        title: The parsed title of the book.\n",
    "\n",
    "    \"\"\"\n",
    "    search = re.search(\"Title:(.*)\", book_text)\n",
    "    title = search.group(1).replace(\"\\r\", \" \").strip()\n",
    "    return title"
   ]
  },
  {
   "cell_type": "code",
   "execution_count": 24,
   "id": "0cb38755",
   "metadata": {},
   "outputs": [],
   "source": [
    "urls = [\n",
    "    \"https://www.gutenberg.org/cache/epub/16751/pg16751.txt\",\n",
    "    \"https://www.gutenberg.org/cache/epub/14640/pg14640.txt\",\n",
    "    \"https://www.gutenberg.org/cache/epub/19923/pg19923.txt\",\n",
    "]"
   ]
  },
  {
   "cell_type": "code",
   "execution_count": 26,
   "id": "33d3b349",
   "metadata": {},
   "outputs": [],
   "source": [
    "# get the book titles, and their respective texts\n",
    "books = [text_getter(url) for url in urls]"
   ]
  },
  {
   "cell_type": "code",
   "execution_count": 27,
   "id": "36d57925",
   "metadata": {},
   "outputs": [],
   "source": [
    "lex_diversity = {\n",
    "    title: {\n",
    "        \"lexical_diversity\": f\"{lexical_diversity(text)*100:.2f}%\",\n",
    "        \"vocabulary_size\": len(set(text)),\n",
    "    }\n",
    "    for title, text in books\n",
    "}"
   ]
  },
  {
   "cell_type": "markdown",
   "id": "61e87ef3",
   "metadata": {},
   "source": [
    "3.Report the lexical diversity score of each. Explain whether the result was surprising."
   ]
  },
  {
   "cell_type": "code",
   "execution_count": 28,
   "id": "f8667d17",
   "metadata": {},
   "outputs": [
    {
     "name": "stdout",
     "output_type": "stream",
     "text": [
      "McGuffey's Sixth Eclectic Reader:\n",
      " lexical_diversity: 10.09%\n",
      "\n",
      "McGuffey's First Eclectic Reader, Revised Edition:\n",
      " lexical_diversity: 16.69%\n",
      "\n",
      "The Ontario Readers: The High School Reader, 1886:\n",
      " lexical_diversity: 11.08%\n",
      "\n"
     ]
    }
   ],
   "source": [
    "# reviewing/analyzing lexical divirsity differences between the grades\n",
    "for key, value in lex_diversity.items():\n",
    "    print(f\"{key}:\\n lexical_diversity: {value['lexical_diversity']}\\n\")"
   ]
  },
  {
   "cell_type": "markdown",
   "id": "d838990f",
   "metadata": {},
   "source": [
    "It's interesting to see that 1st grade is 50%+ more lexically diverse than 6th grade and high school. My initial feeling was that high school readers would have been more lexically diverse than all; you can see that is certainly more diverse than 6th grade."
   ]
  },
  {
   "cell_type": "markdown",
   "id": "c67b0f9d",
   "metadata": {},
   "source": [
    "4.Also compare the vocabulary size of the same three texts. Explain whether the result was surprising."
   ]
  },
  {
   "cell_type": "code",
   "execution_count": 29,
   "id": "91862e81",
   "metadata": {},
   "outputs": [
    {
     "name": "stdout",
     "output_type": "stream",
     "text": [
      "McGuffey's Sixth Eclectic Reader:\n",
      " vocabulary_size: 17259\n",
      "\n",
      "McGuffey's First Eclectic Reader, Revised Edition:\n",
      " vocabulary_size: 2146\n",
      "\n",
      "The Ontario Readers: The High School Reader, 1886:\n",
      " vocabulary_size: 17101\n",
      "\n"
     ]
    }
   ],
   "source": [
    "# reviewing/analyzing vocabulary differences between the grades\n",
    "for key, value in lex_diversity.items():\n",
    "    print(f\"{key}:\\n vocabulary_size: {value['vocabulary_size']}\\n\")"
   ]
  },
  {
   "cell_type": "markdown",
   "id": "0ffc7739",
   "metadata": {},
   "source": [
    "Here, we see that 1st grade's vocabulary is significantly smaller than the other two. I am surprised to see that 6th grade has the largest. Does this mean that by 6th grade, we have learned most of our vocabulary that we are going to learn from standard educational sources? And that we don't increase our vocabulary much between 6th grade and high school? It isn't surprising that the 1st grade vocabulary was as small as it is."
   ]
  },
  {
   "cell_type": "markdown",
   "id": "2462ea15",
   "metadata": {},
   "source": [
    "5.Write a paragraph arguing whether vocabulary size and lexical diversity in combination could be a better measure of text difficulty (or reading level) than either measure is by itself.\n",
    "Identifying Text to Analyze"
   ]
  },
  {
   "cell_type": "code",
   "execution_count": 30,
   "id": "72074428",
   "metadata": {},
   "outputs": [
    {
     "name": "stdout",
     "output_type": "stream",
     "text": [
      "McGuffey's Sixth Eclectic Reader:\n",
      "  {'lexical_diversity': '10.09%', 'vocabulary_size': 17259}\n",
      "\n",
      "McGuffey's First Eclectic Reader, Revised Edition:\n",
      "  {'lexical_diversity': '16.69%', 'vocabulary_size': 2146}\n",
      "\n",
      "The Ontario Readers: The High School Reader, 1886:\n",
      "  {'lexical_diversity': '11.08%', 'vocabulary_size': 17101}\n",
      "\n"
     ]
    }
   ],
   "source": [
    "# reviewing/analyzing lexical diversity AND vocabulary differences between the grades\n",
    "for key, value in lex_diversity.items():\n",
    "    print(f\"{key}:\\n  {value}\\n\")"
   ]
  },
  {
   "cell_type": "markdown",
   "id": "ed5ebfa2",
   "metadata": {},
   "source": [
    "When evaluating lexical diversity, it's important to understand vocabulary size as it relates to total word count. Smaller denominators in rates, generally means it requires fewer adjustments in the numerator to increase the rate and the rate of change is much greater in cases with smaller overall word counts. \n",
    "\n",
    "In this case, adding a single word to the 1st grade vocabulary, increases the lexical diversity much more (+0.04%) than it would if we added a single word to the 6th grade (+0.01%) or high school vocabulary (+0.01%); lexical diversity increases 4x for 1st grade over upper grades when adding a single word.\n",
    "\n",
    "I'd be interested in knowing what the word repitition rate is. I imagine that for lower grades, words are repeated more than in upper grades."
   ]
  }
 ],
 "metadata": {
  "kernelspec": {
   "display_name": "Python 3",
   "language": "python",
   "name": "python3"
  },
  "language_info": {
   "codemirror_mode": {
    "name": "ipython",
    "version": 3
   },
   "file_extension": ".py",
   "mimetype": "text/x-python",
   "name": "python",
   "nbconvert_exporter": "python",
   "pygments_lexer": "ipython3",
   "version": "3.7.7"
  }
 },
 "nbformat": 4,
 "nbformat_minor": 5
}
