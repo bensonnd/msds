{
 "cells": [
  {
   "cell_type": "markdown",
   "metadata": {
    "id": "kcI7SMrJsD_y"
   },
   "source": [
    "#Case Study 1: Superconductors\n",
    "Creating a linear regression model to predict:\n",
    "- At what *critical_temp* will materials become superconductors?\n",
    "- Which variables carry the most importance?\n",
    "##Team DEAN:\n",
    "###**D**avid Wei | **E**dward Roske | **A**dam Canton | **N**eil Benson\n",
    "\n",
    "Note: some portions of the lab below may have repurposed/reused code/text from the prior case studies.\n",
    "*** "
   ]
  },
  {
   "cell_type": "markdown",
   "metadata": {
    "id": "Huy8ePBd9yuJ"
   },
   "source": [
    "If running into RAM issues while running on the hosted runtime, run locally using the following command (from anaconda prompt):\n",
    "\n",
    "`pip install --upgrade jupyter_http_over_ws`\n",
    "\n",
    "`jupyter notebook --NotebookApp.allow_origin='https://colab.research.google.com' --port=8888 --NotebookApp.port_retries=0`"
   ]
  },
  {
   "cell_type": "markdown",
   "metadata": {
    "id": "gcRh_YtHxdgu"
   },
   "source": [
    "#Packages"
   ]
  },
  {
   "cell_type": "code",
   "execution_count": null,
   "metadata": {
    "id": "p9Qtf-g7xKkE"
   },
   "outputs": [],
   "source": [
    "# SKLearn\n",
    "import sklearn\n",
    "from sklearn import datasets, tree, neighbors, decomposition, datasets\n",
    "from sklearn.decomposition import PCA\n",
    "from sklearn.linear_model import LinearRegression, SGDClassifier\n",
    "from sklearn.cluster import KMeans\n",
    "from sklearn.datasets import make_blobs\n",
    "from sklearn.model_selection import train_test_split, StratifiedShuffleSplit, TimeSeriesSplit, GridSearchCV, RandomizedSearchCV\n",
    "from sklearn.metrics import accuracy_score, roc_auc_score, mean_squared_error, r2_score\n",
    "from sklearn.preprocessing import StandardScaler\n",
    "from sklearn.svm import SVC\n",
    "from sklearn.ensemble import RandomForestClassifier\n",
    "from sklearn.neighbors import KNeighborsClassifier\n",
    "from sklearn.pipeline import Pipeline\n",
    "\n",
    "# Other Packages\n",
    "import numpy as np\n",
    "import matplotlib.pyplot as plt\n",
    "import seaborn as sns\n",
    "import xgboost as xgb\n",
    "import pandas as pd\n",
    "from mpl_toolkits.mplot3d import Axes3D\n",
    "from matplotlib.colors import ListedColormap"
   ]
  },
  {
   "cell_type": "markdown",
   "metadata": {
    "id": "4JeTqsAimklB"
   },
   "source": [
    "#Data Preparation    \n",
    "We have two files to load. They have the same number of rows, but they must be combined, so we'll merge the data into a single dataset."
   ]
  },
  {
   "cell_type": "code",
   "execution_count": null,
   "metadata": {
    "colab": {
     "base_uri": "https://localhost:8080/",
     "height": 336
    },
    "id": "LZXlB19eP3vS",
    "outputId": "f59cb97f-f8bc-4543-e8b5-2fc179e55d01"
   },
   "outputs": [
    {
     "data": {
      "text/html": [
       "<div>\n",
       "<style scoped>\n",
       "    .dataframe tbody tr th:only-of-type {\n",
       "        vertical-align: middle;\n",
       "    }\n",
       "\n",
       "    .dataframe tbody tr th {\n",
       "        vertical-align: top;\n",
       "    }\n",
       "\n",
       "    .dataframe thead th {\n",
       "        text-align: right;\n",
       "    }\n",
       "</style>\n",
       "<table border=\"1\" class=\"dataframe\">\n",
       "  <thead>\n",
       "    <tr style=\"text-align: right;\">\n",
       "      <th></th>\n",
       "      <th>number_of_elements</th>\n",
       "      <th>mean_atomic_mass</th>\n",
       "      <th>wtd_mean_atomic_mass</th>\n",
       "      <th>gmean_atomic_mass</th>\n",
       "      <th>wtd_gmean_atomic_mass</th>\n",
       "      <th>entropy_atomic_mass</th>\n",
       "      <th>wtd_entropy_atomic_mass</th>\n",
       "      <th>range_atomic_mass</th>\n",
       "      <th>wtd_range_atomic_mass</th>\n",
       "      <th>std_atomic_mass</th>\n",
       "      <th>...</th>\n",
       "      <th>Pt</th>\n",
       "      <th>Au</th>\n",
       "      <th>Hg</th>\n",
       "      <th>Tl</th>\n",
       "      <th>Pb</th>\n",
       "      <th>Bi</th>\n",
       "      <th>Po</th>\n",
       "      <th>At</th>\n",
       "      <th>Rn</th>\n",
       "      <th>critical_temp</th>\n",
       "    </tr>\n",
       "  </thead>\n",
       "  <tbody>\n",
       "    <tr>\n",
       "      <th>count</th>\n",
       "      <td>21263.000000</td>\n",
       "      <td>21263.000000</td>\n",
       "      <td>21263.000000</td>\n",
       "      <td>21263.000000</td>\n",
       "      <td>21263.000000</td>\n",
       "      <td>21263.000000</td>\n",
       "      <td>21263.000000</td>\n",
       "      <td>21263.000000</td>\n",
       "      <td>21263.000000</td>\n",
       "      <td>21263.000000</td>\n",
       "      <td>...</td>\n",
       "      <td>21263.000000</td>\n",
       "      <td>21263.000000</td>\n",
       "      <td>21263.000000</td>\n",
       "      <td>21263.000000</td>\n",
       "      <td>21263.000000</td>\n",
       "      <td>21263.000000</td>\n",
       "      <td>21263.0</td>\n",
       "      <td>21263.0</td>\n",
       "      <td>21263.0</td>\n",
       "      <td>21263.000000</td>\n",
       "    </tr>\n",
       "    <tr>\n",
       "      <th>mean</th>\n",
       "      <td>4.115224</td>\n",
       "      <td>87.557631</td>\n",
       "      <td>72.988310</td>\n",
       "      <td>71.290627</td>\n",
       "      <td>58.539916</td>\n",
       "      <td>1.165608</td>\n",
       "      <td>1.063884</td>\n",
       "      <td>115.601251</td>\n",
       "      <td>33.225218</td>\n",
       "      <td>44.391893</td>\n",
       "      <td>...</td>\n",
       "      <td>0.034108</td>\n",
       "      <td>0.020535</td>\n",
       "      <td>0.036663</td>\n",
       "      <td>0.047954</td>\n",
       "      <td>0.042461</td>\n",
       "      <td>0.201009</td>\n",
       "      <td>0.0</td>\n",
       "      <td>0.0</td>\n",
       "      <td>0.0</td>\n",
       "      <td>34.421219</td>\n",
       "    </tr>\n",
       "    <tr>\n",
       "      <th>std</th>\n",
       "      <td>1.439295</td>\n",
       "      <td>29.676497</td>\n",
       "      <td>33.490406</td>\n",
       "      <td>31.030272</td>\n",
       "      <td>36.651067</td>\n",
       "      <td>0.364930</td>\n",
       "      <td>0.401423</td>\n",
       "      <td>54.626887</td>\n",
       "      <td>26.967752</td>\n",
       "      <td>20.035430</td>\n",
       "      <td>...</td>\n",
       "      <td>0.307888</td>\n",
       "      <td>0.717975</td>\n",
       "      <td>0.205846</td>\n",
       "      <td>0.272298</td>\n",
       "      <td>0.274365</td>\n",
       "      <td>0.655927</td>\n",
       "      <td>0.0</td>\n",
       "      <td>0.0</td>\n",
       "      <td>0.0</td>\n",
       "      <td>34.254362</td>\n",
       "    </tr>\n",
       "    <tr>\n",
       "      <th>min</th>\n",
       "      <td>1.000000</td>\n",
       "      <td>6.941000</td>\n",
       "      <td>6.423452</td>\n",
       "      <td>5.320573</td>\n",
       "      <td>1.960849</td>\n",
       "      <td>0.000000</td>\n",
       "      <td>0.000000</td>\n",
       "      <td>0.000000</td>\n",
       "      <td>0.000000</td>\n",
       "      <td>0.000000</td>\n",
       "      <td>...</td>\n",
       "      <td>0.000000</td>\n",
       "      <td>0.000000</td>\n",
       "      <td>0.000000</td>\n",
       "      <td>0.000000</td>\n",
       "      <td>0.000000</td>\n",
       "      <td>0.000000</td>\n",
       "      <td>0.0</td>\n",
       "      <td>0.0</td>\n",
       "      <td>0.0</td>\n",
       "      <td>0.000210</td>\n",
       "    </tr>\n",
       "    <tr>\n",
       "      <th>25%</th>\n",
       "      <td>3.000000</td>\n",
       "      <td>72.458076</td>\n",
       "      <td>52.143839</td>\n",
       "      <td>58.041225</td>\n",
       "      <td>35.248990</td>\n",
       "      <td>0.966676</td>\n",
       "      <td>0.775363</td>\n",
       "      <td>78.512902</td>\n",
       "      <td>16.824174</td>\n",
       "      <td>32.890369</td>\n",
       "      <td>...</td>\n",
       "      <td>0.000000</td>\n",
       "      <td>0.000000</td>\n",
       "      <td>0.000000</td>\n",
       "      <td>0.000000</td>\n",
       "      <td>0.000000</td>\n",
       "      <td>0.000000</td>\n",
       "      <td>0.0</td>\n",
       "      <td>0.0</td>\n",
       "      <td>0.0</td>\n",
       "      <td>5.365000</td>\n",
       "    </tr>\n",
       "    <tr>\n",
       "      <th>50%</th>\n",
       "      <td>4.000000</td>\n",
       "      <td>84.922750</td>\n",
       "      <td>60.696571</td>\n",
       "      <td>66.361592</td>\n",
       "      <td>39.918385</td>\n",
       "      <td>1.199541</td>\n",
       "      <td>1.146783</td>\n",
       "      <td>122.906070</td>\n",
       "      <td>26.636008</td>\n",
       "      <td>45.123500</td>\n",
       "      <td>...</td>\n",
       "      <td>0.000000</td>\n",
       "      <td>0.000000</td>\n",
       "      <td>0.000000</td>\n",
       "      <td>0.000000</td>\n",
       "      <td>0.000000</td>\n",
       "      <td>0.000000</td>\n",
       "      <td>0.0</td>\n",
       "      <td>0.0</td>\n",
       "      <td>0.0</td>\n",
       "      <td>20.000000</td>\n",
       "    </tr>\n",
       "    <tr>\n",
       "      <th>75%</th>\n",
       "      <td>5.000000</td>\n",
       "      <td>100.404410</td>\n",
       "      <td>86.103540</td>\n",
       "      <td>78.116681</td>\n",
       "      <td>73.113234</td>\n",
       "      <td>1.444537</td>\n",
       "      <td>1.359418</td>\n",
       "      <td>154.119320</td>\n",
       "      <td>38.356908</td>\n",
       "      <td>59.322812</td>\n",
       "      <td>...</td>\n",
       "      <td>0.000000</td>\n",
       "      <td>0.000000</td>\n",
       "      <td>0.000000</td>\n",
       "      <td>0.000000</td>\n",
       "      <td>0.000000</td>\n",
       "      <td>0.000000</td>\n",
       "      <td>0.0</td>\n",
       "      <td>0.0</td>\n",
       "      <td>0.0</td>\n",
       "      <td>63.000000</td>\n",
       "    </tr>\n",
       "    <tr>\n",
       "      <th>max</th>\n",
       "      <td>9.000000</td>\n",
       "      <td>208.980400</td>\n",
       "      <td>208.980400</td>\n",
       "      <td>208.980400</td>\n",
       "      <td>208.980400</td>\n",
       "      <td>1.983797</td>\n",
       "      <td>1.958203</td>\n",
       "      <td>207.972460</td>\n",
       "      <td>205.589910</td>\n",
       "      <td>101.019700</td>\n",
       "      <td>...</td>\n",
       "      <td>5.800000</td>\n",
       "      <td>64.000000</td>\n",
       "      <td>8.000000</td>\n",
       "      <td>7.000000</td>\n",
       "      <td>19.000000</td>\n",
       "      <td>14.000000</td>\n",
       "      <td>0.0</td>\n",
       "      <td>0.0</td>\n",
       "      <td>0.0</td>\n",
       "      <td>185.000000</td>\n",
       "    </tr>\n",
       "  </tbody>\n",
       "</table>\n",
       "<p>8 rows × 169 columns</p>\n",
       "</div>"
      ],
      "text/plain": [
       "       number_of_elements  mean_atomic_mass  wtd_mean_atomic_mass  \\\n",
       "count        21263.000000      21263.000000          21263.000000   \n",
       "mean             4.115224         87.557631             72.988310   \n",
       "std              1.439295         29.676497             33.490406   \n",
       "min              1.000000          6.941000              6.423452   \n",
       "25%              3.000000         72.458076             52.143839   \n",
       "50%              4.000000         84.922750             60.696571   \n",
       "75%              5.000000        100.404410             86.103540   \n",
       "max              9.000000        208.980400            208.980400   \n",
       "\n",
       "       gmean_atomic_mass  wtd_gmean_atomic_mass  entropy_atomic_mass  \\\n",
       "count       21263.000000           21263.000000         21263.000000   \n",
       "mean           71.290627              58.539916             1.165608   \n",
       "std            31.030272              36.651067             0.364930   \n",
       "min             5.320573               1.960849             0.000000   \n",
       "25%            58.041225              35.248990             0.966676   \n",
       "50%            66.361592              39.918385             1.199541   \n",
       "75%            78.116681              73.113234             1.444537   \n",
       "max           208.980400             208.980400             1.983797   \n",
       "\n",
       "       wtd_entropy_atomic_mass  range_atomic_mass  wtd_range_atomic_mass  \\\n",
       "count             21263.000000       21263.000000           21263.000000   \n",
       "mean                  1.063884         115.601251              33.225218   \n",
       "std                   0.401423          54.626887              26.967752   \n",
       "min                   0.000000           0.000000               0.000000   \n",
       "25%                   0.775363          78.512902              16.824174   \n",
       "50%                   1.146783         122.906070              26.636008   \n",
       "75%                   1.359418         154.119320              38.356908   \n",
       "max                   1.958203         207.972460             205.589910   \n",
       "\n",
       "       std_atomic_mass  ...            Pt            Au            Hg  \\\n",
       "count     21263.000000  ...  21263.000000  21263.000000  21263.000000   \n",
       "mean         44.391893  ...      0.034108      0.020535      0.036663   \n",
       "std          20.035430  ...      0.307888      0.717975      0.205846   \n",
       "min           0.000000  ...      0.000000      0.000000      0.000000   \n",
       "25%          32.890369  ...      0.000000      0.000000      0.000000   \n",
       "50%          45.123500  ...      0.000000      0.000000      0.000000   \n",
       "75%          59.322812  ...      0.000000      0.000000      0.000000   \n",
       "max         101.019700  ...      5.800000     64.000000      8.000000   \n",
       "\n",
       "                 Tl            Pb            Bi       Po       At       Rn  \\\n",
       "count  21263.000000  21263.000000  21263.000000  21263.0  21263.0  21263.0   \n",
       "mean       0.047954      0.042461      0.201009      0.0      0.0      0.0   \n",
       "std        0.272298      0.274365      0.655927      0.0      0.0      0.0   \n",
       "min        0.000000      0.000000      0.000000      0.0      0.0      0.0   \n",
       "25%        0.000000      0.000000      0.000000      0.0      0.0      0.0   \n",
       "50%        0.000000      0.000000      0.000000      0.0      0.0      0.0   \n",
       "75%        0.000000      0.000000      0.000000      0.0      0.0      0.0   \n",
       "max        7.000000     19.000000     14.000000      0.0      0.0      0.0   \n",
       "\n",
       "       critical_temp  \n",
       "count   21263.000000  \n",
       "mean       34.421219  \n",
       "std        34.254362  \n",
       "min         0.000210  \n",
       "25%         5.365000  \n",
       "50%        20.000000  \n",
       "75%        63.000000  \n",
       "max       185.000000  \n",
       "\n",
       "[8 rows x 169 columns]"
      ]
     },
     "execution_count": 3,
     "metadata": {
      "tags": []
     },
     "output_type": "execute_result"
    }
   ],
   "source": [
    "#@title Data Loading\n",
    "# Data loading\n",
    "df1 = pd.read_csv(\"https://raw.githubusercontent.com/bensonnd/msds/ds7333-neil/ds7333/case_study_1/Data/train.csv\")\n",
    "df2 = pd.read_csv(\"https://raw.githubusercontent.com/bensonnd/msds/ds7333-neil/ds7333/case_study_1/Data/unique_m.csv\")\n",
    "\n",
    "# Change data types\n",
    "#df1['number_of_elements'] = pd.to_numeric(df1['number_of_elements']).astype(int)\n",
    "\n",
    "# Merge dataframes\n",
    "df = pd.concat([df1.reset_index(drop=True), df2], axis=1)\n",
    "\n",
    "# Drop unneeded variables\n",
    "#df = df.drop('material', axis=1) will remove this after EDA\n",
    "\n",
    "# Output DataFrame columns & types\n",
    "df.describe()"
   ]
  },
  {
   "cell_type": "markdown",
   "metadata": {
    "id": "fyx8xUD9miSf"
   },
   "source": [
    "# **Data Cleaning**"
   ]
  },
  {
   "cell_type": "markdown",
   "metadata": {
    "id": "j-RjpjE5rhCD"
   },
   "source": [
    "While testing for any duplicate columns (after merging the 2 files together), we can see that most of the columns are unique other than the last index being 'critical_temp' which contains a duplicate."
   ]
  },
  {
   "cell_type": "code",
   "execution_count": null,
   "metadata": {
    "colab": {
     "base_uri": "https://localhost:8080/"
    },
    "id": "0fZ_uSGKrFRa",
    "outputId": "4015205c-fc5c-4819-df7f-68c40eb6f294"
   },
   "outputs": [
    {
     "data": {
      "text/plain": [
       "array([False, False, False, False, False, False, False, False, False,\n",
       "       False, False, False, False, False, False, False, False, False,\n",
       "       False, False, False, False, False, False, False, False, False,\n",
       "       False, False, False, False, False, False, False, False, False,\n",
       "       False, False, False, False, False, False, False, False, False,\n",
       "       False, False, False, False, False, False, False, False, False,\n",
       "       False, False, False, False, False, False, False, False, False,\n",
       "       False, False, False, False, False, False, False, False, False,\n",
       "       False, False, False, False, False, False, False, False, False,\n",
       "       False, False, False, False, False, False, False, False, False,\n",
       "       False, False, False, False, False, False, False, False, False,\n",
       "       False, False, False, False, False, False, False, False, False,\n",
       "       False, False, False, False, False, False, False, False, False,\n",
       "       False, False, False, False, False, False, False, False, False,\n",
       "       False, False, False, False, False, False, False, False, False,\n",
       "       False, False, False, False, False, False, False, False, False,\n",
       "       False, False, False, False, False, False, False, False, False,\n",
       "       False, False, False, False, False, False, False, False, False,\n",
       "       False, False, False, False, False, False,  True, False])"
      ]
     },
     "execution_count": 3,
     "metadata": {
      "tags": []
     },
     "output_type": "execute_result"
    }
   ],
   "source": [
    "df.columns.duplicated()"
   ]
  },
  {
   "cell_type": "markdown",
   "metadata": {
    "id": "l6dFd-iemoL3"
   },
   "source": [
    "We can see that since both filesets contained our response value 'critical_temp', we will first test if all records from the merged dataframe are equal and if theY are, then to drop one of the duplicate response columns."
   ]
  },
  {
   "cell_type": "code",
   "execution_count": null,
   "metadata": {
    "colab": {
     "base_uri": "https://localhost:8080/"
    },
    "id": "vW_Td59lmm_p",
    "outputId": "d87945e8-eb2b-409e-febc-cb62bc2b4bdd"
   },
   "outputs": [
    {
     "name": "stdout",
     "output_type": "stream",
     "text": [
      "# of columns BEFORE duplicates:170\n",
      "same column values, removing one\n",
      "# of columns AFTER duplicates:169\n"
     ]
    }
   ],
   "source": [
    "if df1['critical_temp'].equals(df2['critical_temp']) == True:\n",
    "    print('# of columns BEFORE duplicates:' +str(len(df.columns)))\n",
    "    print('same column values, removing one')\n",
    "    df = df.loc[:,~df.columns.duplicated()]\n",
    "    print('# of columns AFTER duplicates:' +str(len(df.columns)))"
   ]
  },
  {
   "cell_type": "markdown",
   "metadata": {
    "id": "MmV2gtx4fiDG"
   },
   "source": [
    "# **Exploratory Data Analysis**\n"
   ]
  },
  {
   "cell_type": "markdown",
   "metadata": {
    "id": "dNeAEjmwoZkV"
   },
   "source": [
    "From a quick summary of our data types and values. We can see that all of our data are continouous attributes, excluding the material type. We can see that there is 15,542 unique types of materials out of 21,263 total records which means roughly 75% of the data are all unique materials and so we will remove that attribute due to the large disparity of its attribute values."
   ]
  },
  {
   "cell_type": "code",
   "execution_count": null,
   "metadata": {
    "colab": {
     "base_uri": "https://localhost:8080/"
    },
    "id": "1z8Pih5dhOvP",
    "outputId": "e08d53cd-eca9-4796-ce9d-2597128943ce"
   },
   "outputs": [
    {
     "name": "stdout",
     "output_type": "stream",
     "text": [
      "<class 'pandas.core.frame.DataFrame'>\n",
      "RangeIndex: 21263 entries, 0 to 21262\n",
      "Data columns (total 170 columns):\n",
      " #   Column                           Non-Null Count  Dtype  \n",
      "---  ------                           --------------  -----  \n",
      " 0   number_of_elements               21263 non-null  int64  \n",
      " 1   mean_atomic_mass                 21263 non-null  float64\n",
      " 2   wtd_mean_atomic_mass             21263 non-null  float64\n",
      " 3   gmean_atomic_mass                21263 non-null  float64\n",
      " 4   wtd_gmean_atomic_mass            21263 non-null  float64\n",
      " 5   entropy_atomic_mass              21263 non-null  float64\n",
      " 6   wtd_entropy_atomic_mass          21263 non-null  float64\n",
      " 7   range_atomic_mass                21263 non-null  float64\n",
      " 8   wtd_range_atomic_mass            21263 non-null  float64\n",
      " 9   std_atomic_mass                  21263 non-null  float64\n",
      " 10  wtd_std_atomic_mass              21263 non-null  float64\n",
      " 11  mean_fie                         21263 non-null  float64\n",
      " 12  wtd_mean_fie                     21263 non-null  float64\n",
      " 13  gmean_fie                        21263 non-null  float64\n",
      " 14  wtd_gmean_fie                    21263 non-null  float64\n",
      " 15  entropy_fie                      21263 non-null  float64\n",
      " 16  wtd_entropy_fie                  21263 non-null  float64\n",
      " 17  range_fie                        21263 non-null  float64\n",
      " 18  wtd_range_fie                    21263 non-null  float64\n",
      " 19  std_fie                          21263 non-null  float64\n",
      " 20  wtd_std_fie                      21263 non-null  float64\n",
      " 21  mean_atomic_radius               21263 non-null  float64\n",
      " 22  wtd_mean_atomic_radius           21263 non-null  float64\n",
      " 23  gmean_atomic_radius              21263 non-null  float64\n",
      " 24  wtd_gmean_atomic_radius          21263 non-null  float64\n",
      " 25  entropy_atomic_radius            21263 non-null  float64\n",
      " 26  wtd_entropy_atomic_radius        21263 non-null  float64\n",
      " 27  range_atomic_radius              21263 non-null  int64  \n",
      " 28  wtd_range_atomic_radius          21263 non-null  float64\n",
      " 29  std_atomic_radius                21263 non-null  float64\n",
      " 30  wtd_std_atomic_radius            21263 non-null  float64\n",
      " 31  mean_Density                     21263 non-null  float64\n",
      " 32  wtd_mean_Density                 21263 non-null  float64\n",
      " 33  gmean_Density                    21263 non-null  float64\n",
      " 34  wtd_gmean_Density                21263 non-null  float64\n",
      " 35  entropy_Density                  21263 non-null  float64\n",
      " 36  wtd_entropy_Density              21263 non-null  float64\n",
      " 37  range_Density                    21263 non-null  float64\n",
      " 38  wtd_range_Density                21263 non-null  float64\n",
      " 39  std_Density                      21263 non-null  float64\n",
      " 40  wtd_std_Density                  21263 non-null  float64\n",
      " 41  mean_ElectronAffinity            21263 non-null  float64\n",
      " 42  wtd_mean_ElectronAffinity        21263 non-null  float64\n",
      " 43  gmean_ElectronAffinity           21263 non-null  float64\n",
      " 44  wtd_gmean_ElectronAffinity       21263 non-null  float64\n",
      " 45  entropy_ElectronAffinity         21263 non-null  float64\n",
      " 46  wtd_entropy_ElectronAffinity     21263 non-null  float64\n",
      " 47  range_ElectronAffinity           21263 non-null  float64\n",
      " 48  wtd_range_ElectronAffinity       21263 non-null  float64\n",
      " 49  std_ElectronAffinity             21263 non-null  float64\n",
      " 50  wtd_std_ElectronAffinity         21263 non-null  float64\n",
      " 51  mean_FusionHeat                  21263 non-null  float64\n",
      " 52  wtd_mean_FusionHeat              21263 non-null  float64\n",
      " 53  gmean_FusionHeat                 21263 non-null  float64\n",
      " 54  wtd_gmean_FusionHeat             21263 non-null  float64\n",
      " 55  entropy_FusionHeat               21263 non-null  float64\n",
      " 56  wtd_entropy_FusionHeat           21263 non-null  float64\n",
      " 57  range_FusionHeat                 21263 non-null  float64\n",
      " 58  wtd_range_FusionHeat             21263 non-null  float64\n",
      " 59  std_FusionHeat                   21263 non-null  float64\n",
      " 60  wtd_std_FusionHeat               21263 non-null  float64\n",
      " 61  mean_ThermalConductivity         21263 non-null  float64\n",
      " 62  wtd_mean_ThermalConductivity     21263 non-null  float64\n",
      " 63  gmean_ThermalConductivity        21263 non-null  float64\n",
      " 64  wtd_gmean_ThermalConductivity    21263 non-null  float64\n",
      " 65  entropy_ThermalConductivity      21263 non-null  float64\n",
      " 66  wtd_entropy_ThermalConductivity  21263 non-null  float64\n",
      " 67  range_ThermalConductivity        21263 non-null  float64\n",
      " 68  wtd_range_ThermalConductivity    21263 non-null  float64\n",
      " 69  std_ThermalConductivity          21263 non-null  float64\n",
      " 70  wtd_std_ThermalConductivity      21263 non-null  float64\n",
      " 71  mean_Valence                     21263 non-null  float64\n",
      " 72  wtd_mean_Valence                 21263 non-null  float64\n",
      " 73  gmean_Valence                    21263 non-null  float64\n",
      " 74  wtd_gmean_Valence                21263 non-null  float64\n",
      " 75  entropy_Valence                  21263 non-null  float64\n",
      " 76  wtd_entropy_Valence              21263 non-null  float64\n",
      " 77  range_Valence                    21263 non-null  int64  \n",
      " 78  wtd_range_Valence                21263 non-null  float64\n",
      " 79  std_Valence                      21263 non-null  float64\n",
      " 80  wtd_std_Valence                  21263 non-null  float64\n",
      " 81  critical_temp                    21263 non-null  float64\n",
      " 82  H                                21263 non-null  float64\n",
      " 83  He                               21263 non-null  int64  \n",
      " 84  Li                               21263 non-null  float64\n",
      " 85  Be                               21263 non-null  float64\n",
      " 86  B                                21263 non-null  float64\n",
      " 87  C                                21263 non-null  float64\n",
      " 88  N                                21263 non-null  float64\n",
      " 89  O                                21263 non-null  float64\n",
      " 90  F                                21263 non-null  float64\n",
      " 91  Ne                               21263 non-null  int64  \n",
      " 92  Na                               21263 non-null  float64\n",
      " 93  Mg                               21263 non-null  float64\n",
      " 94  Al                               21263 non-null  float64\n",
      " 95  Si                               21263 non-null  float64\n",
      " 96  P                                21263 non-null  float64\n",
      " 97  S                                21263 non-null  float64\n",
      " 98  Cl                               21263 non-null  float64\n",
      " 99  Ar                               21263 non-null  int64  \n",
      " 100 K                                21263 non-null  float64\n",
      " 101 Ca                               21263 non-null  float64\n",
      " 102 Sc                               21263 non-null  float64\n",
      " 103 Ti                               21263 non-null  float64\n",
      " 104 V                                21263 non-null  float64\n",
      " 105 Cr                               21263 non-null  float64\n",
      " 106 Mn                               21263 non-null  float64\n",
      " 107 Fe                               21263 non-null  float64\n",
      " 108 Co                               21263 non-null  float64\n",
      " 109 Ni                               21263 non-null  float64\n",
      " 110 Cu                               21263 non-null  float64\n",
      " 111 Zn                               21263 non-null  float64\n",
      " 112 Ga                               21263 non-null  float64\n",
      " 113 Ge                               21263 non-null  float64\n",
      " 114 As                               21263 non-null  float64\n",
      " 115 Se                               21263 non-null  float64\n",
      " 116 Br                               21263 non-null  float64\n",
      " 117 Kr                               21263 non-null  int64  \n",
      " 118 Rb                               21263 non-null  float64\n",
      " 119 Sr                               21263 non-null  float64\n",
      " 120 Y                                21263 non-null  float64\n",
      " 121 Zr                               21263 non-null  float64\n",
      " 122 Nb                               21263 non-null  float64\n",
      " 123 Mo                               21263 non-null  float64\n",
      " 124 Tc                               21263 non-null  float64\n",
      " 125 Ru                               21263 non-null  float64\n",
      " 126 Rh                               21263 non-null  float64\n",
      " 127 Pd                               21263 non-null  float64\n",
      " 128 Ag                               21263 non-null  float64\n",
      " 129 Cd                               21263 non-null  float64\n",
      " 130 In                               21263 non-null  float64\n",
      " 131 Sn                               21263 non-null  float64\n",
      " 132 Sb                               21263 non-null  float64\n",
      " 133 Te                               21263 non-null  float64\n",
      " 134 I                                21263 non-null  float64\n",
      " 135 Xe                               21263 non-null  int64  \n",
      " 136 Cs                               21263 non-null  float64\n",
      " 137 Ba                               21263 non-null  float64\n",
      " 138 La                               21263 non-null  float64\n",
      " 139 Ce                               21263 non-null  float64\n",
      " 140 Pr                               21263 non-null  float64\n",
      " 141 Nd                               21263 non-null  float64\n",
      " 142 Pm                               21263 non-null  int64  \n",
      " 143 Sm                               21263 non-null  float64\n",
      " 144 Eu                               21263 non-null  float64\n",
      " 145 Gd                               21263 non-null  float64\n",
      " 146 Tb                               21263 non-null  float64\n",
      " 147 Dy                               21263 non-null  float64\n",
      " 148 Ho                               21263 non-null  float64\n",
      " 149 Er                               21263 non-null  float64\n",
      " 150 Tm                               21263 non-null  float64\n",
      " 151 Yb                               21263 non-null  float64\n",
      " 152 Lu                               21263 non-null  float64\n",
      " 153 Hf                               21263 non-null  float64\n",
      " 154 Ta                               21263 non-null  float64\n",
      " 155 W                                21263 non-null  float64\n",
      " 156 Re                               21263 non-null  float64\n",
      " 157 Os                               21263 non-null  float64\n",
      " 158 Ir                               21263 non-null  float64\n",
      " 159 Pt                               21263 non-null  float64\n",
      " 160 Au                               21263 non-null  float64\n",
      " 161 Hg                               21263 non-null  float64\n",
      " 162 Tl                               21263 non-null  float64\n",
      " 163 Pb                               21263 non-null  float64\n",
      " 164 Bi                               21263 non-null  float64\n",
      " 165 Po                               21263 non-null  int64  \n",
      " 166 At                               21263 non-null  int64  \n",
      " 167 Rn                               21263 non-null  int64  \n",
      " 168 critical_temp                    21263 non-null  float64\n",
      " 169 material                         21263 non-null  object \n",
      "dtypes: float64(157), int64(12), object(1)\n",
      "memory usage: 27.6+ MB\n"
     ]
    }
   ],
   "source": [
    "df.info(verbose=True, null_counts=True)"
   ]
  },
  {
   "cell_type": "code",
   "execution_count": null,
   "metadata": {
    "colab": {
     "base_uri": "https://localhost:8080/"
    },
    "id": "DOWOuscMt_eo",
    "outputId": "9247bb78-e5da-42f3-bdfe-406dfc0f3b0c"
   },
   "outputs": [
    {
     "name": "stdout",
     "output_type": "stream",
     "text": [
      "15542\n",
      "================================================================================\n",
      "21263\n",
      "================================================================================\n",
      "                material    C\n",
      "14964         Y1Ba2Cu3O7  110\n",
      "2338      Bi2Sr2Ca1Cu2O8   80\n",
      "7137   La1.85Sr0.15Cu1O4   51\n",
      "458                B2Mg1   46\n",
      "12904        Tl2Ba2Cu1O6   45\n",
      "2336       Bi2Sr2Ca1Cu2O   44\n",
      "14857          Y1Ba2Cu3O   44\n",
      "14991         Y1Ba2Cu4O8   40\n",
      "9957   Nd1.85Ce0.15Cu1O4   32\n",
      "7287     La1.8Sr0.2Cu1O4   29\n",
      "5631         Hg1Ba2Cu1O4   28\n",
      "10043        Nd1Ba2Cu3O7   28\n",
      "10874  Pr1.85Ce0.15Cu1O4   27\n",
      "4958         Gd1Ba2Cu3O7   25\n",
      "12177           Sr2Ru1O4   25\n",
      "7381     La1.9Sr0.1Cu1O4   24\n",
      "14945       Y1Ba2Cu3O6.9   23\n",
      "2625                  C1   22\n",
      "5580      Hg1Ba2Ca2Cu3O8   21\n",
      "9327              Nb1Se2   21\n"
     ]
    }
   ],
   "source": [
    "print(df['material'].nunique())\n",
    "print('='*80)\n",
    "print(len(df))\n",
    "print('='*80)\n",
    "dcf = df.groupby(['material'],as_index=False).count()\n",
    "#top 20 materials\n",
    "print(dcf[['material', 'C']].nlargest(20,'C'))"
   ]
  },
  {
   "cell_type": "markdown",
   "metadata": {
    "id": "9BW5HUWDo2fB"
   },
   "source": [
    "We will next test the validity of our response value 'critical_temps' and its distribution. We can see that the distribution of our data is **right-skewed** where most of critical_temp values are at 0 and then descends towards 50."
   ]
  },
  {
   "cell_type": "code",
   "execution_count": null,
   "metadata": {
    "colab": {
     "base_uri": "https://localhost:8080/",
     "height": 386
    },
    "id": "qRAVK_q6o4QN",
    "outputId": "40165cf4-a4b2-48fa-8d3e-0766b487eb58"
   },
   "outputs": [
    {
     "data": {
      "text/plain": [
       "<seaborn.axisgrid.FacetGrid at 0x7f48c56d1310>"
      ]
     },
     "execution_count": 8,
     "metadata": {
      "tags": []
     },
     "output_type": "execute_result"
    },
    {
     "data": {
      "image/png": "[encoded data removed]",
      "text/plain": [
       "<Figure size 360x360 with 1 Axes>"
      ]
     },
     "metadata": {
      "needs_background": "light",
      "tags": []
     },
     "output_type": "display_data"
    }
   ],
   "source": [
    "sns.displot(df, x=\"critical_temp\")"
   ]
  },
  {
   "cell_type": "code",
   "execution_count": null,
   "metadata": {
    "id": "Nc9SnOv42EFl"
   },
   "outputs": [],
   "source": []
  },
  {
   "cell_type": "markdown",
   "metadata": {},
   "source": [
    "# **Scaling the Data**"
   ]
  },
  {
   "cell_type": "markdown",
   "metadata": {
    "id": "gMBnQB3tyG8-"
   },
   "source": [
    "# **Setting Cross Validation Objects**"
   ]
  },
  {
   "cell_type": "markdown",
   "metadata": {
    "id": "JcnUjGJ_xrXs"
   },
   "source": [
    "# **Feature Select using PCA**"
   ]
  },
  {
   "cell_type": "code",
   "execution_count": null,
   "metadata": {
    "id": "LrcXvpMBxxLf"
   },
   "outputs": [],
   "source": [
    "#creating temp df that stores all explanatory variables\n",
    "expl = df.sub(df['critical_temp'])\n",
    "\n",
    "# Standardize the feature\n",
    "df_scaled= StandardScaler().fit_transform(expl)\n",
    "n = 3\n",
    "pca = PCA(n_components=n)\n",
    "df_num_pca = pca.fit(df_scaled).transform(df_scaled)"
   ]
  },
  {
   "cell_type": "code",
   "execution_count": null,
   "metadata": {
    "colab": {
     "base_uri": "https://localhost:8080/"
    },
    "id": "5FM8lkYwxwnU",
    "outputId": "ae7f8b01-9183-478b-862b-18eebc67042f"
   },
   "outputs": [
    {
     "name": "stdout",
     "output_type": "stream",
     "text": [
      "[0.8163613  0.06443232 0.02639913]\n",
      "90.71927516178579\n",
      "first 3 components explains 91 percentage of the variation\n"
     ]
    }
   ],
   "source": [
    "pca.explained_variance_ratio_\n",
    "Sum = sum(pca.explained_variance_ratio_) \n",
    "print(pca.explained_variance_ratio_)\n",
    "print(Sum*100)\n",
    "print('first', n , 'components explains', round(Sum*100), 'percentage of the variation')"
   ]
  },
  {
   "cell_type": "markdown",
   "metadata": {
    "id": "2e6e9vTo55wB"
   },
   "source": []
  },
  {
   "cell_type": "code",
   "execution_count": null,
   "metadata": {
    "colab": {
     "base_uri": "https://localhost:8080/"
    },
    "id": "8rijFznyxybQ",
    "outputId": "30d4c0e5-bfc1-48ac-f82e-e4cd84fb3d00"
   },
   "outputs": [
    {
     "data": {
      "text/plain": [
       "['-0.09*number_of_ele -0.07*mean_atomic -0.07*wtd_mean_atomic -0.07*gmean_atomic -0.07*wtd_gmean_atomic -0.09*entropy_atomic -0.09*wtd_entropy_atomic -0.01*range_atomic -0.07*wtd_range_atomic -0.07*std_atomic -0.07*wtd_std_atomic -0.02*mea +0.02*wtd_mea -0.04*gmea +0.01*wtd_gmea -0.09*entrop -0.09*wtd_entrop +0.05*rang +0.01*wtd_rang +0.02*st +0.03*wtd_st -0.07*mean_atomic_r -0.07*wtd_mean_atomic_r -0.07*gmean_atomic_r -0.07*wtd_gmean_atomic_r -0.09*entropy_atomic_r -0.09*wtd_entropy_atomic_r +0.02*range_atomic_r -0.07*wtd_range_atomic_r -0.06*std_atomic_r -0.06*wtd_std_atomic_r -0.04*mean_De -0.04*wtd_mean_De -0.05*gmean_De -0.05*wtd_gmean_De -0.09*entropy_De -0.09*wtd_entropy_De +0.02*range_De -0.03*wtd_range_De +0.01*std_De +0.02*wtd_std_De -0.07*mean_ElectronAff -0.06*wtd_mean_ElectronAff -0.07*gmean_ElectronAff -0.07*wtd_gmean_ElectronAff -0.09*entropy_ElectronAff -0.09*wtd_entropy_ElectronAff -0.03*range_ElectronAff -0.06*wtd_range_ElectronAff -0.07*std_ElectronAff -0.07*wtd_std_ElectronAff -0.08*mean_Fusio -0.08*wtd_mean_Fusio -0.08*gmean_Fusio -0.08*wtd_gmean_Fusio -0.09*entropy_Fusio -0.09*wtd_entropy_Fusio -0.08*range_Fusio -0.08*wtd_range_Fusio -0.08*std_Fusio -0.08*wtd_std_Fusio -0.04*mean_ThermalConduct -0.03*wtd_mean_ThermalConduct -0.07*gmean_ThermalConduct -0.07*wtd_gmean_ThermalConduct -0.09*entropy_ThermalConduct -0.09*wtd_entropy_ThermalConduct +0.05*range_ThermalConduct -0.03*wtd_range_ThermalConduct +0.01*std_ThermalConduct +0.02*wtd_std_ThermalConduct -0.09*mean_Va -0.09*wtd_mean_Va -0.09*gmean_Va -0.09*wtd_gmean_Va -0.09*entropy_Va -0.09*wtd_entropy_Va -0.09*range_Va -0.09*wtd_range_Va -0.09*std_Va -0.09*wtd_std_Va +-0.00*critical -0.09* -0.09* -0.09* -0.09* -0.09* -0.08* -0.09* -0.08* -0.09* -0.09* -0.09* -0.09* -0.09* -0.09* -0.09* -0.09* -0.09* -0.09* -0.09* -0.09* -0.09* -0.09* -0.09* -0.09* -0.09* -0.09* -0.09* -0.09* -0.09* -0.09* -0.09* -0.09* -0.09* -0.09* -0.09* -0.09* -0.09* -0.09* -0.09* -0.08* -0.08* -0.09* -0.09* -0.09* -0.09* -0.09* -0.09* -0.09* -0.09* -0.09* -0.09* -0.09* -0.09* -0.09* -0.09* -0.09* -0.09* -0.09* -0.09* -0.09* -0.09* -0.09* -0.09* -0.09* -0.09* -0.09* -0.09* -0.09* -0.09* -0.09* -0.09* -0.09* -0.09* -0.09* -0.09* -0.09* -0.09* -0.09* -0.09* -0.09* -0.09* -0.09* -0.09* -0.09* -0.09* -0.09* ',\n",
       " '0.01*number_of_ele -0.06*mean_atomic -0.09*wtd_mean_atomic -0.08*gmean_atomic -0.11*wtd_gmean_atomic +0.01*entropy_atomic +0.01*wtd_entropy_atomic +0.16*range_atomic -0.05*wtd_range_atomic +0.08*std_atomic +0.10*wtd_std_atomic +0.15*mea +0.25*wtd_mea +0.10*gmea +0.24*wtd_gmea +0.01*entrop +0.01*wtd_entrop +0.22*rang +0.16*wtd_rang +0.26*st +0.26*wtd_st -0.05*mean_atomic_r -0.12*wtd_mean_atomic_r -0.08*gmean_atomic_r -0.14*wtd_gmean_atomic_r +0.01*entropy_atomic_r +0.01*wtd_entropy_atomic_r +0.26*range_atomic_r -0.08*wtd_range_atomic_r +0.17*std_atomic_r +0.20*wtd_std_atomic_r -0.15*mean_De -0.18*wtd_mean_De -0.20*gmean_De -0.21*wtd_gmean_De +0.01*entropy_De +0.01*wtd_entropy_De +0.10*range_De -0.12*wtd_range_De +0.08*std_De +0.12*wtd_std_De +0.05*mean_ElectronAff +0.12*wtd_mean_ElectronAff +0.02*gmean_ElectronAff +0.08*wtd_gmean_ElectronAff +0.01*entropy_ElectronAff +0.01*wtd_entropy_ElectronAff +0.17*range_ElectronAff +0.11*wtd_range_ElectronAff +0.10*std_ElectronAff +0.10*wtd_std_ElectronAff -0.01*mean_Fusio -0.02*wtd_mean_Fusio -0.02*gmean_Fusio -0.03*wtd_gmean_Fusio +0.01*entropy_Fusio +0.01*wtd_entropy_Fusio +0.03*range_Fusio -0.01*wtd_range_Fusio +0.02*std_Fusio +0.02*wtd_std_Fusio +0.03*mean_ThermalConduct -0.04*wtd_mean_ThermalConduct -0.08*gmean_ThermalConduct -0.09*wtd_gmean_ThermalConduct +0.01*entropy_ThermalConduct +0.01*wtd_entropy_ThermalConduct +0.15*range_ThermalConduct +0.02*wtd_range_ThermalConduct +0.17*std_ThermalConduct +0.16*wtd_std_ThermalConduct +0.00*mean_Va +0.00*wtd_mean_Va +0.00*gmean_Va +0.00*wtd_gmean_Va +0.01*entropy_Va +0.01*wtd_entropy_Va +0.01*range_Va +0.01*wtd_range_Va +0.01*std_Va +0.01*wtd_std_Va +0.00*critical +0.01* +0.01* +0.01* +0.01* +0.01* +0.01* +0.01* +0.02* +0.01* +0.01* +0.01* +0.01* +0.01* +0.01* +0.01* +0.01* +0.01* +0.01* +0.01* +0.01* +0.01* +0.01* +0.01* +0.01* +0.01* +0.01* +0.01* +0.01* +0.01* +0.01* +0.01* +0.01* +0.01* +0.01* +0.01* +0.01* +0.01* +0.01* +0.01* +0.00* +0.00* +0.01* +0.01* +0.01* +0.01* +0.01* +0.01* +0.01* +0.01* +0.01* +0.01* +0.01* +0.01* +0.01* +0.01* +0.01* +0.01* +0.01* +0.01* +0.01* +0.01* +0.01* +0.01* +0.01* +0.01* +0.01* +0.01* +0.01* +0.01* +0.01* +0.01* +0.01* +0.01* +0.01* +0.01* +0.01* +0.01* +0.01* +0.01* +0.01* +0.01* +0.01* +0.01* +0.01* +0.01* +0.01* ',\n",
       " '-0.01*number_of_ele +0.17*mean_atomic +0.13*wtd_mean_atomic +0.12*gmean_atomic +0.10*wtd_gmean_atomic -0.01*entropy_atomic -0.01*wtd_entropy_atomic +0.24*range_atomic +0.10*wtd_range_atomic +0.14*std_atomic +0.13*wtd_std_atomic -0.01*mea -0.01*wtd_mea -0.01*gmea -0.01*wtd_gmea -0.01*entrop -0.01*wtd_entrop +0.01*rang +0.01*wtd_rang +0.00*st +0.01*wtd_st +0.07*mean_atomic_r +0.05*wtd_mean_atomic_r +0.06*gmean_atomic_r +0.04*wtd_gmean_atomic_r -0.01*entropy_atomic_r -0.01*wtd_entropy_atomic_r +0.01*range_atomic_r +0.02*wtd_range_atomic_r -0.02*std_atomic_r -0.01*wtd_std_atomic_r +0.30*mean_De +0.25*wtd_mean_De +0.15*gmean_De +0.14*wtd_gmean_De -0.01*entropy_De -0.01*wtd_entropy_De +0.36*range_De +0.24*wtd_range_De +0.38*std_De +0.36*wtd_std_De +0.05*mean_ElectronAff +0.08*wtd_mean_ElectronAff +0.04*gmean_ElectronAff +0.06*wtd_gmean_ElectronAff -0.01*entropy_ElectronAff -0.01*wtd_entropy_ElectronAff +0.04*range_ElectronAff +0.06*wtd_range_ElectronAff +0.03*std_ElectronAff +0.03*wtd_std_ElectronAff -0.02*mean_Fusio -0.02*wtd_mean_Fusio -0.01*gmean_Fusio -0.02*wtd_gmean_Fusio -0.01*entropy_Fusio -0.01*wtd_entropy_Fusio -0.04*range_Fusio -0.03*wtd_range_Fusio -0.03*std_Fusio -0.02*wtd_std_Fusio +0.12*mean_ThermalConduct +0.16*wtd_mean_ThermalConduct +0.02*gmean_ThermalConduct +0.05*wtd_gmean_ThermalConduct -0.01*entropy_ThermalConduct -0.01*wtd_entropy_ThermalConduct +0.12*range_ThermalConduct +0.16*wtd_range_ThermalConduct +0.13*std_ThermalConduct +0.13*wtd_std_ThermalConduct -0.01*mean_Va -0.01*wtd_mean_Va -0.01*gmean_Va -0.01*wtd_gmean_Va -0.01*entropy_Va -0.01*wtd_entropy_Va -0.01*range_Va -0.01*wtd_range_Va -0.01*std_Va -0.01*wtd_std_Va +-0.00*critical -0.01* -0.01* -0.01* -0.01* -0.01* -0.02* -0.01* -0.01* -0.01* -0.01* -0.01* -0.01* -0.01* -0.01* -0.01* -0.01* -0.01* -0.01* -0.01* -0.01* -0.01* -0.01* -0.02* -0.01* -0.01* -0.01* -0.01* -0.01* -0.01* -0.01* -0.01* -0.01* -0.01* -0.01* -0.01* -0.01* -0.01* -0.01* -0.01* -0.02* -0.02* -0.01* -0.01* -0.01* -0.01* -0.01* -0.01* -0.01* -0.01* -0.01* -0.01* -0.01* -0.01* -0.01* -0.01* -0.01* -0.01* -0.01* -0.01* -0.01* -0.01* -0.01* -0.01* -0.01* -0.01* -0.01* -0.01* -0.01* -0.01* -0.01* -0.01* -0.01* -0.01* -0.01* -0.01* -0.01* -0.01* -0.01* -0.01* -0.01* -0.01* -0.01* -0.01* -0.01* -0.01* -0.01* ']"
      ]
     },
     "execution_count": 27,
     "metadata": {
      "tags": []
     },
     "output_type": "execute_result"
    }
   ],
   "source": [
    "df_col_names = list(df.columns)\n",
    "\n",
    "def get_feature_names_from_weights(weights, names):\n",
    "    tmp_array = []\n",
    "    for comp in weights:\n",
    "        tmp_string = ''\n",
    "        for fidx,f in enumerate(names):\n",
    "            if fidx>0 and comp[fidx]>=0:\n",
    "                tmp_string+='+'\n",
    "            tmp_string += '%.2f*%s ' % (comp[fidx],f[:-5])\n",
    "        tmp_array.append(tmp_string)\n",
    "    return tmp_array\n",
    "\n",
    "# assign weights with features\n",
    "pca_weight_strings = get_feature_names_from_weights(pca.components_, df_col_names)\n",
    "pca_weight_strings"
   ]
  },
  {
   "cell_type": "markdown",
   "metadata": {
    "id": "P3XbJ8tjyDbH"
   },
   "source": []
  },
  {
   "cell_type": "markdown",
   "metadata": {
    "id": "C1wydg8FNWDO"
   },
   "source": [
    "# Hyperparameter Tuning for L1 (Lasso) and L2 (Ridge)"
   ]
  },
  {
   "cell_type": "code",
   "execution_count": null,
   "metadata": {
    "id": "0_B6UrgsOCDI"
   },
   "outputs": [],
   "source": [
    "# Material Names were in column 72 which was causing issues with fitting\n",
    "X_train = np.delete(X_train, 72, 1)  \n",
    "X_test = np.delete(X_test, 72, 1)"
   ]
  },
  {
   "cell_type": "code",
   "execution_count": null,
   "metadata": {
    "id": "ZCW5YNZBNiHW"
   },
   "outputs": [],
   "source": [
    "# Create cross validation object - raise splits to 10, testing with 2\n",
    "# should be fine with KFold since all columns and target are continous\n",
    "nj = -1\n",
    "cv_reg = KFold(n_splits=2)"
   ]
  },
  {
   "cell_type": "code",
   "execution_count": null,
   "metadata": {
    "id": "Q_OvIkM5NvRH"
   },
   "outputs": [],
   "source": [
    "%%time\n",
    "\n",
    "# intialize base L2 - Ridge - Regression Model\n",
    "L2_ridge_reg = Ridge(random_state=42)\n",
    "\n",
    "# setting the parameters\n",
    "grid_L2 = {}\n",
    "grid_L2['alpha'] = [.001, .01, .1, 1, 5, 10, 100, 1000]\n",
    "grid_L2['solver'] = ['svd', 'cholesky', 'lsqr', 'sparse_cg', 'auto', 'saga']\n",
    "\n",
    "L2_tuned = GridSearchCV(estimator=L2_ridge_reg, param_grid=grid_L2, cv=cv_reg,\n",
    "                        scoring='neg_root_mean_squared_error', n_jobs=nj, verbose=1)\n",
    "\n",
    "L2_tuned.fit(X_train, y_train)\n",
    "\n",
    "\n",
    "# summarize results\n",
    "print(\"Mean RMSE: %.3f\" % L2_tuned.best_score_)\n",
    "print(\"Config RMSE: %s\" % L2_tuned.best_params_)\n",
    "print(f\"Best estimator: {L2_tuned.best_estimator_}\\n\")\n",
    "\n",
    "\n",
    "# setting the best paramaters for L2\n",
    "L2_ridge_reg = L2_tuned.best_estimator_"
   ]
  },
  {
   "cell_type": "code",
   "execution_count": null,
   "metadata": {
    "id": "zL1RzE9HN60o"
   },
   "outputs": [],
   "source": [
    "%%time\n",
    "\n",
    "# intialize base L1 - Lasso - Regression Model\n",
    "# max_iter was throwing a warning, you can raise it to 15,000 to get rid of the warning but it provides identical metrics\n",
    "L1_Lasso_reg = Lasso(random_state=42, max_iter=1500)\n",
    "\n",
    "# setting the parameters\n",
    "grid_L1 = {}\n",
    "grid_L1['alpha'] = [.001, .01, .1, 1, 5, 10, 100, 1000]\n",
    "\n",
    "\n",
    "L1_tuned = GridSearchCV(estimator=L1_Lasso_reg, param_grid=grid_L1, cv=cv_reg,\n",
    "                        scoring='neg_root_mean_squared_error', n_jobs=nj, verbose=1)\n",
    "\n",
    "L1_tuned.fit(X_train, y_train)\n",
    "\n",
    "\n",
    "# summarize results\n",
    "print(\"Mean RMSE: %.3f\" % L1_tuned.best_score_)\n",
    "print(\"Config RMSE: %s\" % L1_tuned.best_params_)\n",
    "print(f\"Best estimator: {L1_tuned.best_estimator_}\\n\")\n",
    "\n",
    "\n",
    "# setting the best paramaters for L1\n",
    "L1_Lasso_reg = L2_tuned.best_estimator_"
   ]
  },
  {
   "cell_type": "markdown",
   "metadata": {
    "id": "GWxpQpz7RI42"
   },
   "source": [
    "#Linear Regression     \n",
    "We will create a linear regression model using 168 variables to predict the target (critical_temp).  \n",
    "  \n",
    "First, we'll split into 80% for train data and 20% for test."
   ]
  },
  {
   "cell_type": "code",
   "execution_count": null,
   "metadata": {
    "colab": {
     "base_uri": "https://localhost:8080/"
    },
    "id": "AO66bMwYU3-S",
    "outputId": "c4a44d08-f10e-4613-f39c-44e28520cf9a"
   },
   "outputs": [
    {
     "name": "stdout",
     "output_type": "stream",
     "text": [
      "(17010, 167)\n",
      "(4253, 167)\n"
     ]
    }
   ],
   "source": [
    "#@title Train/Test Split\n",
    "#Train & Test Splits - 80/20\n",
    "target_column = ['critical_temp'] \n",
    "predictors = list(set(list(df.columns))-set(target_column))\n",
    "X = df[predictors].values\n",
    "y = df[target_column].values\n",
    "\n",
    "X_train, X_test, y_train, y_test = train_test_split(x, y, test_size=0.20, random_state=42)\n",
    "print(X_train.shape); print(X_test.shape)"
   ]
  },
  {
   "cell_type": "markdown",
   "metadata": {
    "id": "awYET-9gWOww"
   },
   "source": [
    "Now we can create our model."
   ]
  },
  {
   "cell_type": "code",
   "execution_count": null,
   "metadata": {
    "id": "ei6k54BhcZWS"
   },
   "outputs": [],
   "source": []
  },
  {
   "cell_type": "code",
   "execution_count": null,
   "metadata": {
    "colab": {
     "base_uri": "https://localhost:8080/"
    },
    "id": "g1RiuHlBRoU5",
    "outputId": "3a56de13-a639-423d-c4b4-8ebc07a52643"
   },
   "outputs": [
    {
     "data": {
      "text/plain": [
       "LinearRegression(copy_X=True, fit_intercept=True, n_jobs=None, normalize=False)"
      ]
     },
     "execution_count": 46,
     "metadata": {
      "tags": []
     },
     "output_type": "execute_result"
    }
   ],
   "source": [
    "#@title Linear Regression\n",
    "lr = LinearRegression()\n",
    "lr.fit(X_train, y_train)  # x=input, y=target"
   ]
  },
  {
   "cell_type": "code",
   "execution_count": null,
   "metadata": {
    "colab": {
     "base_uri": "https://localhost:8080/"
    },
    "id": "sOX_BoRsWabw",
    "outputId": "7b38a7f8-cdf7-4def-bccc-a0295d68945c"
   },
   "outputs": [
    {
     "name": "stdout",
     "output_type": "stream",
     "text": [
      "Coefficients: \n",
      " [[ 6.38752935e+00  5.05370045e-03  8.86056861e+00  5.07179226e-10\n",
      "  -2.69545702e-01 -6.34533945e-02 -1.47959514e-10 -3.68277319e-04\n",
      "  -4.98463561e-01 -9.16524745e-01 -9.51584398e-04 -4.99752695e+00\n",
      "   8.55773665e-01 -2.08202000e-01 -8.79741882e-02  2.11670681e-11\n",
      "   5.89083475e+01 -1.00481894e-01 -1.25460231e+01 -1.04998933e+00\n",
      "   2.24766028e-01 -3.16780901e+00 -7.20994620e-02 -1.70288589e-01\n",
      "   5.96553301e+00  5.68498559e-01 -3.00995038e-01 -3.20111351e+00\n",
      "  -6.72703838e-01 -2.89467200e+00  6.06136681e-01  2.73481187e+00\n",
      "  -1.07617323e+00  3.35756525e+00 -2.83997002e-01 -3.01568628e-02\n",
      "   4.69840043e-04  6.58414156e+00  1.28964436e-01 -7.43286270e-04\n",
      "   7.21450677e-13  2.20940584e+00  1.27664579e+00 -3.63683387e-01\n",
      "  -1.60678787e-02 -5.00226051e-01 -1.71342014e-02  4.10529118e+00\n",
      "  -1.55686527e+00  2.80814481e+00  4.57239972e-02 -3.33140049e-01\n",
      "   1.58163790e+00 -2.35346879e+00 -3.60979796e-02 -1.86580414e-03\n",
      "   7.83970959e-02 -2.76028344e+00  1.87076436e-01 -5.98889308e-02\n",
      "   3.40858478e-01  2.21458995e+01  7.22089055e-13  1.42899821e-01\n",
      "  -5.84851344e-01 -1.88356645e-02  5.70454166e+00  5.85745040e-03\n",
      "  -1.76557297e-01 -2.07250338e+00  1.14961691e+00 -2.10487470e-01\n",
      "   1.74527059e-13  3.50861309e-01 -4.57393787e-01  5.08120352e+00\n",
      "   1.11908050e+00 -2.99288044e+01 -1.01043107e-01  7.71696540e+00\n",
      "   1.96737524e-02 -1.47715837e+00 -2.45762464e-02  5.47131027e+00\n",
      "  -2.20683731e-01 -1.12917329e+01 -1.22914655e+00 -2.06639751e-01\n",
      "   9.70239671e-01  1.48283136e+00 -8.23541576e-02  1.33577271e-03\n",
      "   1.17277780e+01 -6.21724894e-14 -1.80525377e+01 -5.02933454e-02\n",
      "  -4.13871737e-01 -6.92391705e-02  6.48552096e+00 -1.35634769e+00\n",
      "  -6.26452750e-01 -1.70082340e-01  1.14614309e-02 -2.49235679e-01\n",
      "   8.60399685e+00 -1.81178471e+00 -6.89097111e+01  7.84030449e+00\n",
      "   5.18219901e-01 -9.65660843e-04  5.92406429e+01 -1.65459421e+01\n",
      "   4.35490854e+00  3.00731986e+00 -1.00038331e+00 -3.44153818e+00\n",
      "  -1.45331075e+01  7.33389899e+00  2.35149097e-01  1.25697703e+00\n",
      "   6.11027493e+00 -6.23258388e-02  1.01777971e-01  8.52480880e-02\n",
      "  -1.23676432e+01  7.77848138e-01 -3.53054834e-01 -3.26423521e-01\n",
      "   3.28149537e-01  3.79477974e-02 -7.62927565e-02  8.01745382e-02\n",
      "  -3.49492202e-01  9.07780711e+00 -1.70370691e+00 -1.21026668e+00\n",
      "  -1.02140518e-13 -2.23870431e-01  2.13648757e+00  6.41743907e-01\n",
      "   7.80809014e-02 -3.88228461e+01  1.75585868e-01 -5.37595471e-03\n",
      "   1.07089696e+01  7.80880790e-02 -2.38250147e-02 -1.23640385e+00\n",
      "   2.80639565e+00  7.61937098e+00 -2.11324339e+00 -3.86405998e-01\n",
      "   5.45120551e-01 -5.60518329e-02 -2.43098100e-02  6.38177653e+00\n",
      "   1.42108547e-14  8.64271814e-02  2.29934231e-02  3.24040872e-03\n",
      "  -2.50897439e+00 -6.42343036e-02  7.06979354e-01 -1.15367567e-01\n",
      "   4.40221463e-01 -3.33514161e-01  1.91555948e+00]\n",
      " [ 6.38752935e+00  5.05370045e-03  8.86056861e+00  5.07179226e-10\n",
      "  -2.69545702e-01 -6.34533945e-02 -1.47959514e-10 -3.68277319e-04\n",
      "  -4.98463561e-01 -9.16524745e-01 -9.51584398e-04 -4.99752695e+00\n",
      "   8.55773665e-01 -2.08202000e-01 -8.79741882e-02  2.11670681e-11\n",
      "   5.89083475e+01 -1.00481894e-01 -1.25460231e+01 -1.04998933e+00\n",
      "   2.24766028e-01 -3.16780901e+00 -7.20994620e-02 -1.70288589e-01\n",
      "   5.96553301e+00  5.68498559e-01 -3.00995038e-01 -3.20111351e+00\n",
      "  -6.72703838e-01 -2.89467200e+00  6.06136681e-01  2.73481187e+00\n",
      "  -1.07617323e+00  3.35756525e+00 -2.83997002e-01 -3.01568628e-02\n",
      "   4.69840043e-04  6.58414156e+00  1.28964436e-01 -7.43286270e-04\n",
      "   7.21450677e-13  2.20940584e+00  1.27664579e+00 -3.63683387e-01\n",
      "  -1.60678787e-02 -5.00226051e-01 -1.71342014e-02  4.10529118e+00\n",
      "  -1.55686527e+00  2.80814481e+00  4.57239972e-02 -3.33140049e-01\n",
      "   1.58163790e+00 -2.35346879e+00 -3.60979796e-02 -1.86580414e-03\n",
      "   7.83970959e-02 -2.76028344e+00  1.87076436e-01 -5.98889308e-02\n",
      "   3.40858478e-01  2.21458995e+01  7.22089055e-13  1.42899821e-01\n",
      "  -5.84851344e-01 -1.88356645e-02  5.70454166e+00  5.85745040e-03\n",
      "  -1.76557297e-01 -2.07250338e+00  1.14961691e+00 -2.10487470e-01\n",
      "   1.74527059e-13  3.50861309e-01 -4.57393787e-01  5.08120352e+00\n",
      "   1.11908050e+00 -2.99288044e+01 -1.01043107e-01  7.71696540e+00\n",
      "   1.96737524e-02 -1.47715837e+00 -2.45762464e-02  5.47131027e+00\n",
      "  -2.20683731e-01 -1.12917329e+01 -1.22914655e+00 -2.06639751e-01\n",
      "   9.70239671e-01  1.48283136e+00 -8.23541576e-02  1.33577271e-03\n",
      "   1.17277780e+01 -6.21724894e-14 -1.80525377e+01 -5.02933454e-02\n",
      "  -4.13871737e-01 -6.92391705e-02  6.48552096e+00 -1.35634769e+00\n",
      "  -6.26452750e-01 -1.70082340e-01  1.14614309e-02 -2.49235679e-01\n",
      "   8.60399685e+00 -1.81178471e+00 -6.89097111e+01  7.84030449e+00\n",
      "   5.18219901e-01 -9.65660843e-04  5.92406429e+01 -1.65459421e+01\n",
      "   4.35490854e+00  3.00731986e+00 -1.00038331e+00 -3.44153818e+00\n",
      "  -1.45331075e+01  7.33389899e+00  2.35149097e-01  1.25697703e+00\n",
      "   6.11027493e+00 -6.23258388e-02  1.01777971e-01  8.52480880e-02\n",
      "  -1.23676432e+01  7.77848138e-01 -3.53054834e-01 -3.26423521e-01\n",
      "   3.28149537e-01  3.79477974e-02 -7.62927565e-02  8.01745382e-02\n",
      "  -3.49492202e-01  9.07780711e+00 -1.70370691e+00 -1.21026668e+00\n",
      "  -1.02140518e-13 -2.23870431e-01  2.13648757e+00  6.41743907e-01\n",
      "   7.80809014e-02 -3.88228461e+01  1.75585868e-01 -5.37595471e-03\n",
      "   1.07089696e+01  7.80880790e-02 -2.38250147e-02 -1.23640385e+00\n",
      "   2.80639565e+00  7.61937098e+00 -2.11324339e+00 -3.86405998e-01\n",
      "   5.45120551e-01 -5.60518329e-02 -2.43098100e-02  6.38177653e+00\n",
      "   1.42108547e-14  8.64271814e-02  2.29934231e-02  3.24040872e-03\n",
      "  -2.50897439e+00 -6.42343036e-02  7.06979354e-01 -1.15367567e-01\n",
      "   4.40221463e-01 -3.33514161e-01  1.91555948e+00]]\n"
     ]
    }
   ],
   "source": [
    "#@title Variable Importance\n",
    "print('Coefficients: \\n', lr.coef_)                  # get the slope values"
   ]
  },
  {
   "cell_type": "code",
   "execution_count": null,
   "metadata": {
    "colab": {
     "base_uri": "https://localhost:8080/"
    },
    "id": "Kt6Htc85WXll",
    "outputId": "1f633841-887f-4b53-add5-64617e229f13"
   },
   "outputs": [
    {
     "name": "stdout",
     "output_type": "stream",
     "text": [
      "Mean squared error: 263.4395986800976\n",
      "Coefficient of determination: 0.7711371105460629\n"
     ]
    }
   ],
   "source": [
    "#@title Predictions\n",
    "y_pred = lr.predict(X_test)        # test is your test input\n",
    "\n",
    "# The mean squared error\n",
    "print('Mean squared error:',\n",
    "      mean_squared_error(y_test, y_pred))\n",
    "# The coefficient of determination: 1 is perfect prediction\n",
    "print('Coefficient of determination:',\n",
    "      r2_score(y_test, y_pred))"
   ]
  }
 ],
 "metadata": {
  "colab": {
   "collapsed_sections": [
    "gcRh_YtHxdgu",
    "4JeTqsAimklB",
    "fyx8xUD9miSf",
    "MmV2gtx4fiDG",
    "JcnUjGJ_xrXs",
    "GWxpQpz7RI42"
   ],
   "name": "Case Study 1  (Team DEAN)",
   "provenance": []
  },
  "kernelspec": {
   "display_name": "Python 3",
   "language": "python",
   "name": "python3"
  },
  "language_info": {
   "codemirror_mode": {
    "name": "ipython",
    "version": 3
   },
   "file_extension": ".py",
   "mimetype": "text/x-python",
   "name": "python",
   "nbconvert_exporter": "python",
   "pygments_lexer": "ipython3",
   "version": "3.7.7"
  }
 },
 "nbformat": 4,
 "nbformat_minor": 1
}
