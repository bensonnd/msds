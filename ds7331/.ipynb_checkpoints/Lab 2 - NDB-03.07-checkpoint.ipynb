{
 "cells": [
  {
   "cell_type": "markdown",
   "metadata": {},
   "source": [
    "# Data Preparation Part 1"
   ]
  },
  {
   "cell_type": "markdown",
   "metadata": {},
   "source": [
    "###  Import Libraries and Alias"
   ]
  },
  {
   "cell_type": "code",
   "execution_count": 409,
   "metadata": {},
   "outputs": [],
   "source": [
    "import numpy as np\n",
    "import pandas as pd\n",
    "import matplotlib.pyplot as plt\n",
    "import seaborn as sns\n",
    "import plotly.express as px\n",
    "from sklearn.model_selection import train_test_split, GridSearchCV, StratifiedKFold, StratifiedShuffleSplit, cross_val_score\n",
    "from sklearn import metrics\n",
    "from sklearn.feature_selection import RFE\n",
    "from sklearn.linear_model import RidgeCV, LassoCV, Ridge, Lasso, LogisticRegression, SGDClassifier\n",
    "from dataframe_column_identifier import DataFrameColumnIdentifier\n",
    "from sklearn.utils import shuffle\n",
    "from sklearn.svm import SVC\n",
    "import time"
   ]
  },
  {
   "cell_type": "markdown",
   "metadata": {},
   "source": [
    "### Data Intiation"
   ]
  },
  {
   "cell_type": "code",
   "execution_count": 410,
   "metadata": {},
   "outputs": [],
   "source": [
    "# Data Init\n",
    "url=\"https://raw.githubusercontent.com/bensonnd/msds/master/ds7331/data/hotel_bookings.csv\"\n",
    "hotel = pd.read_csv(url)"
   ]
  },
  {
   "cell_type": "markdown",
   "metadata": {},
   "source": [
    "### New Features"
   ]
  },
  {
   "cell_type": "code",
   "execution_count": 411,
   "metadata": {},
   "outputs": [],
   "source": [
    "\n",
    "#add `arrival_date` - converting arrival y/m/d columns to a singular column\n",
    "hotel['arrival_date'] = pd.to_datetime([f'{y}-{m}-{d}' for y, m, d in zip(hotel.arrival_date_year,\n",
    "                                                                          hotel.arrival_date_month,\n",
    "                                                                          hotel.arrival_date_day_of_month)])\n",
    "\n",
    "    # source:\n",
    "    # https://stackoverflow.com/questions/54487059/pandas-how-to-create-a-single-date-column-from-columns-containing-year-month\n",
    "\n",
    "# add `length_of_stay`\n",
    "    # we will use this as predictor in the classification task, as well as the continuous variable \n",
    "    # we want to regress to\n",
    "hotel['length_of_stay'] = hotel[\"stays_in_weekend_nights\"] + hotel[\"stays_in_week_nights\"]\n",
    "\n",
    "\n",
    "# set `length_of_stay` as a pandas time delta\n",
    "length = hotel['length_of_stay'].apply(np.ceil).apply(lambda x: pd.Timedelta(x, unit='D'))\n",
    "\n",
    "    # source:\n",
    "    # https://stackoverflow.com/questions/42768649/add-days-to-date-in-pandas\n",
    "\n",
    "    \n",
    "# add `departure_date` \n",
    "hotel['departure_date'] = hotel['arrival_date'] + length\n",
    "\n",
    "\n",
    "# add `total_revenue`\n",
    "hotel[\"total_revenue\"] = abs(hotel[\"adr\"]) * hotel[\"length_of_stay\"]\n",
    "\n",
    "\n",
    "# add `country_cancelation_rate`\n",
    "    # first we aggregate number of cancelations per country, then divide by total records per country\n",
    "    # once we have the rate, we join back on country name\n",
    "hotel['is_canceled_int'] = pd.to_numeric(hotel['is_canceled'])\n",
    "\n",
    "contry_cancellation_rate_df = pd.DataFrame(hotel.groupby(['country'])['is_canceled_int'].count())\n",
    "\n",
    "contry_cancellation_rate_df.columns = ['country_count']\n",
    "contry_cancellation_rate_df['cancelations'] = pd.DataFrame(hotel.groupby(['country'])['is_canceled_int'].sum())\n",
    "\n",
    "contry_cancellation_rate_df['country_cancelation_rate'] = contry_cancellation_rate_df['cancelations'] / contry_cancellation_rate_df['country_count']\n",
    "\n",
    "hotel = hotel.join(contry_cancellation_rate_df, on='country')\n",
    "\n",
    "total_cancelations = hotel.is_canceled_int.sum()\n",
    "\n",
    "\n",
    "# add `stays_in_week_nights_bool` and `stays_in_weekend_nights`\n",
    "# by changing `stays_in_week_nights` and `stays_in_weekend_nights` to Boolean\n",
    "hotel['stays_in_week_nights_bool'] = np.where(hotel['stays_in_week_nights']>0, 1, 0)\n",
    "hotel['stays_in_weekend_nights_bool'] = np.where(hotel['stays_in_weekend_nights']>0, 1, 0)\n",
    "\n",
    "\n",
    "# add `company_booking_bool` by changing `company` to Boolean\n",
    "hotel['company'] = hotel['company'].fillna(0)\n",
    "hotel['company_booking_bool'] = np.where(hotel['company']>0, 1, 0)\n",
    "\n",
    "\n",
    "# add `used_agent_bool` by changing `agent` to Boolean\n",
    "hotel['agent'] = hotel['agent'].fillna(0)\n",
    "hotel['used_agent_bool'] = np.where(hotel['agent']>0, 1, 0)\n",
    "\n",
    "\n",
    "# add `right_room_bool`\n",
    "hotel['right_room_bool'] = np.where((hotel['reserved_room_type'].astype(str)==hotel['assigned_room_type'].astype(str)), 1, 0)\n",
    "\n",
    "\n",
    "# add `previously_canceled_bool` by changing `previous_cancellations` to Boolean\n",
    "hotel['previously_canceled_bool'] = hotel['previous_cancellations'].astype(bool).astype(int)\n",
    "\n",
    "\n",
    "# add `lead_time_cat` by descretizing `lead_time`\n",
    "    # `lead_time` categories 0 days to 1 week, 1 week to 1 month, 1 month to 6 months, greater than 6 months\n",
    "hotel['lead_time_cat'] = pd.cut(hotel['lead_time'], bins=[0,7,31,180,737],\n",
    "                labels=['booked_wk_out', 'booked_mnth_out', 'booked_6_mnths_out', 'booked_long'])\n",
    "\n",
    "\n",
    "# add `country_group_cat` changed to top_ten and other_country by grouping the top 10 countries, and all others\n",
    "hotel['country_group_cat'] = hotel['country'].apply(lambda x: 'top_ten' \n",
    "                                                      if x in ['PRT','GBR','BEL', 'NLD', 'DEU','ESP', 'ITA', 'IRL', 'BRA', 'FRA'] \n",
    "                                                      else 'other_country')\n",
    "\n",
    "\n",
    "# add `parking_space_required_bool` by changing `required_car_parking_spaces` to Boolean\n",
    "hotel['parking_space_required_bool'] = np.where(hotel['required_car_parking_spaces']>0, 1, 0)"
   ]
  },
  {
   "cell_type": "markdown",
   "metadata": {},
   "source": [
    "### Dropping Redundant or Unneeded Attributes"
   ]
  },
  {
   "cell_type": "code",
   "execution_count": 412,
   "metadata": {},
   "outputs": [],
   "source": [
    "# drop the unneeded temp columns created in order to create `country_cancelation_rate`\n",
    "hotel = hotel.drop(['country_count','cancelations','is_canceled_int'], axis=1)\n",
    "\n",
    "\n",
    "# dropping redundant date columns as this data is now available in `arrival_date`\n",
    "hotel = hotel.drop(['arrival_date_year','arrival_date_month','arrival_date_day_of_month'], axis=1)\n",
    "\n",
    "\n",
    "# dropping redundant stay length columns as this data is now available in \n",
    "# `stays_in_week_nights_cat` and `stays_in_weekend_nights_cat`\n",
    "hotel = hotel.drop(['stays_in_week_nights','stays_in_weekend_nights'], axis=1)\n",
    "\n",
    "\n",
    "# dropping redundant columns that changed to boolean or categorical or in grouped attributes\n",
    "hotel = hotel.drop(['company','agent', 'lead_time', 'country', \n",
    "                    'previous_cancellations', 'required_car_parking_spaces'], axis=1)\n",
    "\n",
    "# dropping redundant columns `reservation_status` as it's nearly identical to `is_canceled` - the target in classification\n",
    "hotel = hotel.drop(['reservation_status'], axis=1)"
   ]
  },
  {
   "cell_type": "code",
   "execution_count": 413,
   "metadata": {},
   "outputs": [
    {
     "name": "stdout",
     "output_type": "stream",
     "text": [
      "<class 'pandas.core.frame.DataFrame'>\n",
      "RangeIndex: 119390 entries, 0 to 119389\n",
      "Data columns (total 34 columns):\n",
      " #   Column                          Non-Null Count   Dtype         \n",
      "---  ------                          --------------   -----         \n",
      " 0   hotel                           119390 non-null  object        \n",
      " 1   is_canceled                     119390 non-null  int64         \n",
      " 2   arrival_date_week_number        119390 non-null  int64         \n",
      " 3   adults                          119390 non-null  int64         \n",
      " 4   children                        119386 non-null  float64       \n",
      " 5   babies                          119390 non-null  int64         \n",
      " 6   meal                            119390 non-null  object        \n",
      " 7   market_segment                  119390 non-null  object        \n",
      " 8   distribution_channel            119390 non-null  object        \n",
      " 9   is_repeated_guest               119390 non-null  int64         \n",
      " 10  previous_bookings_not_canceled  119390 non-null  int64         \n",
      " 11  reserved_room_type              119390 non-null  object        \n",
      " 12  assigned_room_type              119390 non-null  object        \n",
      " 13  booking_changes                 119390 non-null  int64         \n",
      " 14  deposit_type                    119390 non-null  object        \n",
      " 15  days_in_waiting_list            119390 non-null  int64         \n",
      " 16  customer_type                   119390 non-null  object        \n",
      " 17  adr                             119390 non-null  float64       \n",
      " 18  total_of_special_requests       119390 non-null  int64         \n",
      " 19  reservation_status_date         119390 non-null  object        \n",
      " 20  arrival_date                    119390 non-null  datetime64[ns]\n",
      " 21  length_of_stay                  119390 non-null  int64         \n",
      " 22  departure_date                  119390 non-null  datetime64[ns]\n",
      " 23  total_revenue                   119390 non-null  float64       \n",
      " 24  country_cancelation_rate        118902 non-null  float64       \n",
      " 25  stays_in_week_nights_bool       119390 non-null  int64         \n",
      " 26  stays_in_weekend_nights_bool    119390 non-null  int64         \n",
      " 27  company_booking_bool            119390 non-null  int64         \n",
      " 28  used_agent_bool                 119390 non-null  int64         \n",
      " 29  right_room_bool                 119390 non-null  int64         \n",
      " 30  previously_canceled_bool        119390 non-null  int64         \n",
      " 31  lead_time_cat                   113045 non-null  category      \n",
      " 32  country_group_cat               119390 non-null  object        \n",
      " 33  parking_space_required_bool     119390 non-null  int64         \n",
      "dtypes: category(1), datetime64[ns](2), float64(4), int64(17), object(10)\n",
      "memory usage: 30.2+ MB\n"
     ]
    }
   ],
   "source": [
    "hotel.info()"
   ]
  },
  {
   "cell_type": "markdown",
   "metadata": {},
   "source": [
    "### Finding Missing Values"
   ]
  },
  {
   "cell_type": "code",
   "execution_count": 414,
   "metadata": {},
   "outputs": [
    {
     "data": {
      "text/plain": [
       "['children', 'country_cancelation_rate', 'lead_time_cat']"
      ]
     },
     "execution_count": 414,
     "metadata": {},
     "output_type": "execute_result"
    }
   ],
   "source": [
    "hotel.columns[hotel.isnull().any()].tolist()"
   ]
  },
  {
   "cell_type": "markdown",
   "metadata": {},
   "source": [
    "### Handling Missing Values"
   ]
  },
  {
   "cell_type": "code",
   "execution_count": 415,
   "metadata": {},
   "outputs": [],
   "source": [
    "# replacing missing values for categorical attributes to 'Unknown'\n",
    "cat_cols = ['lead_time_cat']\n",
    "hotel[cat_cols] = hotel[cat_cols].replace({np.nan:'Unknown'})\n",
    "\n",
    "# replacing missing values for continuous attributes to 0\n",
    "con_cols = ['children', 'country_cancelation_rate']\n",
    "hotel[con_cols] = hotel[con_cols].replace({np.nan:0})\n",
    "\n",
    "    # Source:\n",
    "    # https://stackoverflow.com/questions/45416684/python-pandas-replace-multiple-columns-zero-to-nan                                  "
   ]
  },
  {
   "cell_type": "code",
   "execution_count": 416,
   "metadata": {},
   "outputs": [],
   "source": [
    "# missing columns sanity check\n",
    "assert len(hotel.columns[hotel.isnull().any()].tolist()) == 0  "
   ]
  },
  {
   "cell_type": "markdown",
   "metadata": {},
   "source": [
    "### Checking for duplicates"
   ]
  },
  {
   "cell_type": "code",
   "execution_count": 417,
   "metadata": {},
   "outputs": [],
   "source": [
    "#check for duplicate rows\n",
    "dups = hotel.duplicated().sum()\n",
    "\n",
    "    # source:\n",
    "    # https://stackoverflow.com/questions/35584085/how-to-count-duplicate-rows-in-pandas-dataframe"
   ]
  },
  {
   "cell_type": "code",
   "execution_count": 418,
   "metadata": {},
   "outputs": [
    {
     "data": {
      "text/plain": [
       "'27.2% of all records are considered duplicates'"
      ]
     },
     "execution_count": 418,
     "metadata": {},
     "output_type": "execute_result"
    }
   ],
   "source": [
    "f\"{round(dups/len(hotel)*100,2)}% of all records are considered duplicates\""
   ]
  },
  {
   "cell_type": "markdown",
   "metadata": {},
   "source": [
    "This is a lot. However, the data has been scrubbed any sort of granularity related to the customer attached to each booking, such as an ID or even loyaltly tier. We will assume that duplicates are simply representations of multiple bookings by different customers on the same day, and proceed without removing the duplicates."
   ]
  },
  {
   "cell_type": "code",
   "execution_count": 419,
   "metadata": {},
   "outputs": [
    {
     "data": {
      "text/plain": [
       "array([False, False, False, False, False, False, False, False, False,\n",
       "       False, False, False, False, False, False, False, False, False,\n",
       "       False, False, False, False, False, False, False, False, False,\n",
       "       False, False, False, False, False, False, False])"
      ]
     },
     "execution_count": 419,
     "metadata": {},
     "output_type": "execute_result"
    }
   ],
   "source": [
    "#check for duplicate columns\n",
    "hotel.columns.duplicated()"
   ]
  },
  {
   "cell_type": "markdown",
   "metadata": {},
   "source": [
    "### Use Proper Variable Representations"
   ]
  },
  {
   "cell_type": "code",
   "execution_count": 420,
   "metadata": {},
   "outputs": [],
   "source": [
    "# converting these columns to string type\n",
    "hotel[cat_cols] = hotel[cat_cols].astype(str)\n",
    "\n",
    "# converting `babies` to int since you can't have a half a baby\n",
    "hotel['babies'] = hotel['babies'].astype(int)\n",
    "\n",
    "\n",
    "#make all adr (average daily rate) values positive. (only one is actually negative)\n",
    "hotel['adr'] = hotel['adr'].abs()\n",
    "\n",
    "# list of continuous attributes\n",
    "hotel_continuous = ['arrival_date_week_number','adults','children',\n",
    "                    'babies','is_repeated_guest','previous_bookings_not_canceled',\n",
    "                    'booking_changes','days_in_waiting_list','adr','total_of_special_requests',\n",
    "                    'length_of_stay','total_revenue','country_cancelation_rate']\n",
    "\n",
    "# hotel df of continuos variables in the data set\n",
    "hotelCont = hotel[hotel_continuous]\n",
    "\n",
    "\n",
    "# list of categorical attributes\n",
    "hotel_categoricals =  ['hotel','is_canceled','meal','market_segment','distribution_channel',\n",
    "                       'reserved_room_type','assigned_room_type','deposit_type','customer_type',\n",
    "                       'stays_in_week_nights_bool','stays_in_weekend_nights_bool',\n",
    "                       'company_booking_bool','used_agent_bool','right_room_bool','previously_canceled_bool',\n",
    "                       'lead_time_cat','country_group_cat','parking_space_required_bool']\n",
    "\n",
    "# setting categoricals as that type.\n",
    "for cat in hotel_categoricals:\n",
    "  hotel[cat] = hotel[cat].astype('category')\n",
    "\n",
    "\n",
    "# hotel df of categorical variables\n",
    "hotelCats = hotel[hotel_categoricals]\n",
    "\n",
    "\n",
    "# converting reservation_status_date to datetime\n",
    "hotel['reservation_status_date'] = pd.to_datetime(hotel['reservation_status_date'])\n",
    "\n",
    "\n",
    "# hotel df of datetime variables\n",
    "hotelDates = hotel.select_dtypes(include=['datetime64'])"
   ]
  },
  {
   "cell_type": "markdown",
   "metadata": {},
   "source": [
    "### Identifying and Removing Outliers"
   ]
  },
  {
   "cell_type": "code",
   "execution_count": 421,
   "metadata": {},
   "outputs": [],
   "source": [
    "#######################################\n",
    "#\n",
    "# Normalized the entire data set here only to identify and remove outliers. We'll later split the data prior to scaling, and\n",
    "# and will then normalize the test and training splits separately to avoid data snooping.\n",
    "#\n",
    "#######################################\n",
    "\n",
    "# Mean Normalization of the Continous Variables -  still contains large outliers pictured in graphs below\n",
    "hotelCont_mean_normed = (hotelCont-hotelCont.mean())/(hotelCont.std())\n",
    "\n",
    "# Removing outliers greater than 5 standard deviations away\n",
    "hotel_nol = hotelCont_mean_normed[(np.abs(hotelCont_mean_normed) < 5).all(axis=1)]\n",
    "\n",
    "\n",
    "# Grabbing indices of the non-outlier rows\n",
    "no_outlier_indices = pd.DataFrame(hotel_nol.index)\n",
    "no_outlier_indices.rename(columns={0: \"indices\"}, inplace=True)\n",
    "# no_outlier_indices\n",
    "\n",
    "# This data set has removed the outliers and un-normed the data so that we can use it without snooping on our test data\n",
    "hotel_no_outliers = pd.concat([hotelCont, hotelCats], axis = 1, join = 'inner')\n",
    "hotel_no_outliers = hotel_no_outliers.iloc[no_outlier_indices.indices,]\n",
    "\n",
    "# resetting the dataframe index and dropping the extra column it creates\n",
    "hotel_no_outliers.reset_index(drop=True, inplace=True)"
   ]
  },
  {
   "cell_type": "markdown",
   "metadata": {},
   "source": [
    "### Define and prepare class variables"
   ]
  },
  {
   "cell_type": "markdown",
   "metadata": {},
   "source": [
    "<ul>We are going to predict cancelations (`is_canceled`), either a reservation canceled or did not cancel. This is a binary response, and is categorical, so this is a classification problem.<br><br>\n",
    "    `is_canceled`, our target for the classification task, was not balanced or downsampled and we did not do any adjustment/prep of the class variable specifically because we have data directly from the hotels' databases for a 3 year period; a substantially large data set. Also, this is a large enough sample that we feel it is representative of the population of the hotels' records. Aproximately 30% of the records are cancelations. Any adjustments to scaling or normalization will be addressed after we split for train/test to avoid data snooping on the full data set.</ul>\n",
    "<ul>___________________________________________________________________________</ul>\n",
    "  \n",
    "<ul>Added new continuous variable `length_of_stay`. We will regress to this in our regression task.</ul>\n",
    "\n",
    "\n",
    "```python\n",
    "# add `length_of_stay`\n",
    "    # we will use this as predictor in the classification task, as well as the continuous variable \n",
    "    # we want to regress to\n",
    "hotel['length_of_stay'] = hotel[\"stays_in_weekend_nights\"] + hotel[\"stays_in_week_nights\"]\n",
    "\n",
    "\n",
    "# set `length_of_stay` as a pandas time delta\n",
    "length = hotel['length_of_stay'].apply(np.ceil).apply(lambda x: pd.Timedelta(x, unit='D'))\n",
    "\n",
    "    # source:\n",
    "    # https://stackoverflow.com/questions/42768649/add-days-to-date-in-pandas\n",
    "```"
   ]
  },
  {
   "cell_type": "markdown",
   "metadata": {},
   "source": [
    "#### Setting Target and Predictors"
   ]
  },
  {
   "cell_type": "code",
   "execution_count": 422,
   "metadata": {},
   "outputs": [],
   "source": [
    "# classification task\n",
    "data_clf = hotel_no_outliers.loc[:, hotel_no_outliers.columns != 'is_canceled']\n",
    "target_clf = hotel_no_outliers['is_canceled']\n",
    "\n",
    "# regression task\n",
    "data_reg = hotel_no_outliers.loc[:, hotel_no_outliers.columns != 'length_of_stay']\n",
    "target_reg = hotel_no_outliers['length_of_stay']"
   ]
  },
  {
   "cell_type": "markdown",
   "metadata": {},
   "source": [
    "### One Hot Encoding Categorical Variables"
   ]
  },
  {
   "cell_type": "code",
   "execution_count": 423,
   "metadata": {},
   "outputs": [
    {
     "name": "stdout",
     "output_type": "stream",
     "text": [
      "<class 'pandas.core.frame.DataFrame'>\n",
      "RangeIndex: 112151 entries, 0 to 112150\n",
      "Data columns (total 66 columns):\n",
      " #   Column                            Non-Null Count   Dtype  \n",
      "---  ------                            --------------   -----  \n",
      " 0   arrival_date_week_number          112151 non-null  int64  \n",
      " 1   adults                            112151 non-null  int64  \n",
      " 2   children                          112151 non-null  float64\n",
      " 3   babies                            112151 non-null  int64  \n",
      " 4   is_repeated_guest                 112151 non-null  int64  \n",
      " 5   previous_bookings_not_canceled    112151 non-null  int64  \n",
      " 6   booking_changes                   112151 non-null  int64  \n",
      " 7   days_in_waiting_list              112151 non-null  int64  \n",
      " 8   adr                               112151 non-null  float64\n",
      " 9   total_of_special_requests         112151 non-null  int64  \n",
      " 10  length_of_stay                    112151 non-null  int64  \n",
      " 11  total_revenue                     112151 non-null  float64\n",
      " 12  country_cancelation_rate          112151 non-null  float64\n",
      " 13  hotel_Resort Hotel                112151 non-null  uint8  \n",
      " 14  meal_FB                           112151 non-null  uint8  \n",
      " 15  meal_HB                           112151 non-null  uint8  \n",
      " 16  meal_SC                           112151 non-null  uint8  \n",
      " 17  meal_Undefined                    112151 non-null  uint8  \n",
      " 18  market_segment_Complementary      112151 non-null  uint8  \n",
      " 19  market_segment_Corporate          112151 non-null  uint8  \n",
      " 20  market_segment_Direct             112151 non-null  uint8  \n",
      " 21  market_segment_Groups             112151 non-null  uint8  \n",
      " 22  market_segment_Offline TA/TO      112151 non-null  uint8  \n",
      " 23  market_segment_Online TA          112151 non-null  uint8  \n",
      " 24  market_segment_Undefined          112151 non-null  uint8  \n",
      " 25  distribution_channel_Direct       112151 non-null  uint8  \n",
      " 26  distribution_channel_GDS          112151 non-null  uint8  \n",
      " 27  distribution_channel_TA/TO        112151 non-null  uint8  \n",
      " 28  distribution_channel_Undefined    112151 non-null  uint8  \n",
      " 29  reserved_room_type_B              112151 non-null  uint8  \n",
      " 30  reserved_room_type_C              112151 non-null  uint8  \n",
      " 31  reserved_room_type_D              112151 non-null  uint8  \n",
      " 32  reserved_room_type_E              112151 non-null  uint8  \n",
      " 33  reserved_room_type_F              112151 non-null  uint8  \n",
      " 34  reserved_room_type_G              112151 non-null  uint8  \n",
      " 35  reserved_room_type_H              112151 non-null  uint8  \n",
      " 36  reserved_room_type_L              112151 non-null  uint8  \n",
      " 37  reserved_room_type_P              112151 non-null  uint8  \n",
      " 38  assigned_room_type_B              112151 non-null  uint8  \n",
      " 39  assigned_room_type_C              112151 non-null  uint8  \n",
      " 40  assigned_room_type_D              112151 non-null  uint8  \n",
      " 41  assigned_room_type_E              112151 non-null  uint8  \n",
      " 42  assigned_room_type_F              112151 non-null  uint8  \n",
      " 43  assigned_room_type_G              112151 non-null  uint8  \n",
      " 44  assigned_room_type_H              112151 non-null  uint8  \n",
      " 45  assigned_room_type_I              112151 non-null  uint8  \n",
      " 46  assigned_room_type_K              112151 non-null  uint8  \n",
      " 47  assigned_room_type_L              112151 non-null  uint8  \n",
      " 48  assigned_room_type_P              112151 non-null  uint8  \n",
      " 49  deposit_type_Non Refund           112151 non-null  uint8  \n",
      " 50  deposit_type_Refundable           112151 non-null  uint8  \n",
      " 51  customer_type_Group               112151 non-null  uint8  \n",
      " 52  customer_type_Transient           112151 non-null  uint8  \n",
      " 53  customer_type_Transient-Party     112151 non-null  uint8  \n",
      " 54  stays_in_week_nights_bool_1       112151 non-null  uint8  \n",
      " 55  stays_in_weekend_nights_bool_1    112151 non-null  uint8  \n",
      " 56  company_booking_bool_1            112151 non-null  uint8  \n",
      " 57  used_agent_bool_1                 112151 non-null  uint8  \n",
      " 58  right_room_bool_1                 112151 non-null  uint8  \n",
      " 59  previously_canceled_bool_1        112151 non-null  uint8  \n",
      " 60  lead_time_cat_booked_6_mnths_out  112151 non-null  uint8  \n",
      " 61  lead_time_cat_booked_long         112151 non-null  uint8  \n",
      " 62  lead_time_cat_booked_mnth_out     112151 non-null  uint8  \n",
      " 63  lead_time_cat_booked_wk_out       112151 non-null  uint8  \n",
      " 64  country_group_cat_top_ten         112151 non-null  uint8  \n",
      " 65  parking_space_required_bool_1     112151 non-null  uint8  \n",
      "dtypes: float64(4), int64(9), uint8(53)\n",
      "memory usage: 16.8 MB\n"
     ]
    }
   ],
   "source": [
    "# classification task\n",
    "data_clf = pd.get_dummies(data_clf, drop_first=True)\n",
    "data_clf.info()"
   ]
  },
  {
   "cell_type": "code",
   "execution_count": 424,
   "metadata": {},
   "outputs": [
    {
     "name": "stdout",
     "output_type": "stream",
     "text": [
      "<class 'pandas.core.frame.DataFrame'>\n",
      "RangeIndex: 112151 entries, 0 to 112150\n",
      "Data columns (total 66 columns):\n",
      " #   Column                            Non-Null Count   Dtype  \n",
      "---  ------                            --------------   -----  \n",
      " 0   arrival_date_week_number          112151 non-null  int64  \n",
      " 1   adults                            112151 non-null  int64  \n",
      " 2   children                          112151 non-null  float64\n",
      " 3   babies                            112151 non-null  int64  \n",
      " 4   is_repeated_guest                 112151 non-null  int64  \n",
      " 5   previous_bookings_not_canceled    112151 non-null  int64  \n",
      " 6   booking_changes                   112151 non-null  int64  \n",
      " 7   days_in_waiting_list              112151 non-null  int64  \n",
      " 8   adr                               112151 non-null  float64\n",
      " 9   total_of_special_requests         112151 non-null  int64  \n",
      " 10  total_revenue                     112151 non-null  float64\n",
      " 11  country_cancelation_rate          112151 non-null  float64\n",
      " 12  hotel_Resort Hotel                112151 non-null  uint8  \n",
      " 13  is_canceled_1                     112151 non-null  uint8  \n",
      " 14  meal_FB                           112151 non-null  uint8  \n",
      " 15  meal_HB                           112151 non-null  uint8  \n",
      " 16  meal_SC                           112151 non-null  uint8  \n",
      " 17  meal_Undefined                    112151 non-null  uint8  \n",
      " 18  market_segment_Complementary      112151 non-null  uint8  \n",
      " 19  market_segment_Corporate          112151 non-null  uint8  \n",
      " 20  market_segment_Direct             112151 non-null  uint8  \n",
      " 21  market_segment_Groups             112151 non-null  uint8  \n",
      " 22  market_segment_Offline TA/TO      112151 non-null  uint8  \n",
      " 23  market_segment_Online TA          112151 non-null  uint8  \n",
      " 24  market_segment_Undefined          112151 non-null  uint8  \n",
      " 25  distribution_channel_Direct       112151 non-null  uint8  \n",
      " 26  distribution_channel_GDS          112151 non-null  uint8  \n",
      " 27  distribution_channel_TA/TO        112151 non-null  uint8  \n",
      " 28  distribution_channel_Undefined    112151 non-null  uint8  \n",
      " 29  reserved_room_type_B              112151 non-null  uint8  \n",
      " 30  reserved_room_type_C              112151 non-null  uint8  \n",
      " 31  reserved_room_type_D              112151 non-null  uint8  \n",
      " 32  reserved_room_type_E              112151 non-null  uint8  \n",
      " 33  reserved_room_type_F              112151 non-null  uint8  \n",
      " 34  reserved_room_type_G              112151 non-null  uint8  \n",
      " 35  reserved_room_type_H              112151 non-null  uint8  \n",
      " 36  reserved_room_type_L              112151 non-null  uint8  \n",
      " 37  reserved_room_type_P              112151 non-null  uint8  \n",
      " 38  assigned_room_type_B              112151 non-null  uint8  \n",
      " 39  assigned_room_type_C              112151 non-null  uint8  \n",
      " 40  assigned_room_type_D              112151 non-null  uint8  \n",
      " 41  assigned_room_type_E              112151 non-null  uint8  \n",
      " 42  assigned_room_type_F              112151 non-null  uint8  \n",
      " 43  assigned_room_type_G              112151 non-null  uint8  \n",
      " 44  assigned_room_type_H              112151 non-null  uint8  \n",
      " 45  assigned_room_type_I              112151 non-null  uint8  \n",
      " 46  assigned_room_type_K              112151 non-null  uint8  \n",
      " 47  assigned_room_type_L              112151 non-null  uint8  \n",
      " 48  assigned_room_type_P              112151 non-null  uint8  \n",
      " 49  deposit_type_Non Refund           112151 non-null  uint8  \n",
      " 50  deposit_type_Refundable           112151 non-null  uint8  \n",
      " 51  customer_type_Group               112151 non-null  uint8  \n",
      " 52  customer_type_Transient           112151 non-null  uint8  \n",
      " 53  customer_type_Transient-Party     112151 non-null  uint8  \n",
      " 54  stays_in_week_nights_bool_1       112151 non-null  uint8  \n",
      " 55  stays_in_weekend_nights_bool_1    112151 non-null  uint8  \n",
      " 56  company_booking_bool_1            112151 non-null  uint8  \n",
      " 57  used_agent_bool_1                 112151 non-null  uint8  \n",
      " 58  right_room_bool_1                 112151 non-null  uint8  \n",
      " 59  previously_canceled_bool_1        112151 non-null  uint8  \n",
      " 60  lead_time_cat_booked_6_mnths_out  112151 non-null  uint8  \n",
      " 61  lead_time_cat_booked_long         112151 non-null  uint8  \n",
      " 62  lead_time_cat_booked_mnth_out     112151 non-null  uint8  \n",
      " 63  lead_time_cat_booked_wk_out       112151 non-null  uint8  \n",
      " 64  country_group_cat_top_ten         112151 non-null  uint8  \n",
      " 65  parking_space_required_bool_1     112151 non-null  uint8  \n",
      "dtypes: float64(4), int64(8), uint8(54)\n",
      "memory usage: 16.0 MB\n"
     ]
    }
   ],
   "source": [
    "# regression task\n",
    "data_reg = pd.get_dummies(data_reg, drop_first=True)\n",
    "data_reg.info()"
   ]
  },
  {
   "cell_type": "markdown",
   "metadata": {},
   "source": [
    "### Use Pre-processing methods for dimensionality reduction, scaling, etc."
   ]
  },
  {
   "cell_type": "markdown",
   "metadata": {},
   "source": [
    "#### Splitting the Data for Validation"
   ]
  },
  {
   "cell_type": "code",
   "execution_count": 425,
   "metadata": {},
   "outputs": [],
   "source": [
    "# classification task\n",
    "# using StratifiedShuffleSplit to split into train/test and validatin set to maintain class balance for classification task\n",
    "sss = StratifiedShuffleSplit(n_splits=1, test_size=0.2, train_size=0.8, random_state=24)\n",
    "\n",
    "data_Array_clf, target_Array_clf = data_clf.to_numpy(), target_clf.to_numpy()\n",
    "\n",
    "# split into training/validation and test sets\n",
    "for train_val_index, test_index in sss.split(data_Array_clf, target_Array_clf):\n",
    "    train_val_data_clf, test_data_clf = data_Array_clf[train_val_index], data_Array_clf[test_index]\n",
    "    train_val_target_clf, test_target_clf = target_Array_clf[train_val_index], target_Array_clf[test_index]\n",
    "\n",
    "    \n",
    "# regression task\n",
    "train_val_data_reg, test_data_reg, train_val_target_reg, test_target_reg = train_test_split(data_reg, target_reg, test_size=0.2, train_size=0.8, random_state=24)\n"
   ]
  },
  {
   "cell_type": "markdown",
   "metadata": {},
   "source": [
    "#### Scaling the Data"
   ]
  },
  {
   "cell_type": "code",
   "execution_count": 426,
   "metadata": {},
   "outputs": [],
   "source": [
    "from sklearn.preprocessing import StandardScaler\n",
    "\n",
    "scl = StandardScaler()\n",
    "\n",
    "\n",
    "# classification Task\n",
    "# Train/Validation and Test Sets\n",
    "scl_clf = scl.fit(train_val_data_clf)\n",
    "\n",
    "# scaling the training and validation set\n",
    "train_val_data_clf = scl_clf.transform(train_val_data_clf)\n",
    "\n",
    "# scaling the test set\n",
    "test_data_clf = scl_clf.transform(test_data_clf)\n",
    "\n",
    "\n",
    "# regression Task  - \n",
    "# Train/Validation and Test Sets\n",
    "scl_reg = scl.fit(train_val_data_reg)\n",
    "\n",
    "# scaling the training and validation set\n",
    "train_val_data_reg = scl_reg.transform(train_val_data_reg)\n",
    "\n",
    "# scaling the test set\n",
    "test_data_reg = scl_reg.transform(test_data_reg)"
   ]
  },
  {
   "cell_type": "markdown",
   "metadata": {},
   "source": [
    "#### Further Splitting into Train and Validation"
   ]
  },
  {
   "cell_type": "code",
   "execution_count": 427,
   "metadata": {},
   "outputs": [],
   "source": [
    "# splitting into training and validation sets\n",
    "\n",
    "# classification Task\n",
    "# Train and Validation Sets\n",
    "for train_index, val_index in sss.split(train_val_data_clf, train_val_target_clf):\n",
    "    train_data_clf, validation_data_clf = train_val_data_clf[train_index], train_val_data_clf[val_index]\n",
    "    train_target_clf, validation_target_clf = train_val_target_clf[train_index], train_val_target_clf[val_index]\n",
    "\n",
    "    \n",
    "# forming into dataframes and renaming\n",
    "training_data_clf = pd.DataFrame(train_data_clf, columns = data_clf.columns)\n",
    "validation_data_clf = pd.DataFrame(validation_data_clf, columns = data_clf.columns)\n",
    "test_data_clf = pd.DataFrame(test_data_clf, columns = data_clf.columns)\n",
    "\n",
    "training_target_clf = pd.DataFrame(train_target_clf, columns = ['is_canceled'])\n",
    "validation_target_clf = pd.DataFrame(validation_target_clf, columns = ['is_canceled'])\n",
    "test_target_clf = pd.DataFrame(test_target_clf, columns = ['is_canceled'])\n",
    "\n",
    "\n",
    "# regression Task\n",
    "# Train and Validation Sets\n",
    "train_data_reg, validation_data_reg, train_target_reg, validation_target_reg = train_test_split(train_val_data_reg, train_val_target_reg, test_size=0.2, train_size=0.8, random_state=24)\n",
    "\n",
    "\n",
    "# forming into dataframes and renaming\n",
    "training_data_reg = pd.DataFrame(train_data_reg, columns = data_reg.columns)\n",
    "validation_data_reg = pd.DataFrame(validation_data_reg, columns = data_reg.columns)\n",
    "test_data_reg = pd.DataFrame(test_data_reg, columns = data_reg.columns)\n",
    "\n",
    "training_target_reg = pd.DataFrame(train_target_reg, columns = ['length_of_stay'])\n",
    "validation_target_reg = pd.DataFrame(validation_target_reg, columns = ['length_of_stay'])\n",
    "test_target_reg = pd.DataFrame(test_target_reg, columns = ['length_of_stay'])\n"
   ]
  },
  {
   "cell_type": "markdown",
   "metadata": {},
   "source": [
    "### Dimensionality Reduction - Removing Variables that are Not Needed/Useful for Analysis\n",
    "When looking at the source data, we don't see a lot of highly correlated variables and because of this, we will not be using PCA for dimensionality reduction."
   ]
  },
  {
   "cell_type": "code",
   "execution_count": 428,
   "metadata": {},
   "outputs": [
    {
     "data": {
      "image/png": "[encoded data removed]",
      "text/plain": [
       "<Figure size 1440x1440 with 2 Axes>"
      ]
     },
     "metadata": {},
     "output_type": "display_data"
    }
   ],
   "source": [
    "# plot the correlation matrix using seaborn\n",
    "\n",
    "sns.set(style=\"darkgrid\") # one of the many styles to plot using\n",
    "cmap = sns.diverging_palette(220, 10, as_cmap=True) # one of the many color mappings\n",
    "f, ax = plt.subplots(figsize=(20, 20))\n",
    "sns.heatmap(hotel_no_outliers[hotel_continuous].corr(), cmap=cmap, annot=True)\n",
    "\n",
    "f.tight_layout()\n",
    "\n",
    "    # source:\n",
    "    # copied from asynch notebook"
   ]
  },
  {
   "cell_type": "markdown",
   "metadata": {},
   "source": [
    "Correlation Matrix:\n",
    "\n",
    "The correlations matrix plot using the source data sans outliers tells us that there are not many strong relationships between the continuous features. We do observe some colinearity between `length_of_stay` and `total_revenue`, but that is because `total_revenue` is a product of `length_of_stay`.\n",
    "\n",
    "We will proceed without reducing or combining dimensions any further than we already have as noted below:\n",
    "```python\n",
    "# drop the temp columns created in order to create `country_cancelation_rate`\n",
    "hotel = hotel.drop(['country_count','cancelations','is_canceled_int'], axis=1)\n",
    "\n",
    "\n",
    "# dropping redundant date columns as this data is now available in `arrival_date`\n",
    "hotel = hotel.drop(['arrival_date_year','arrival_date_month','arrival_date_day_of_month'], axis=1)\n",
    "\n",
    "\n",
    "# dropping redundant stay length columns as this data is now available in \n",
    "# `stays_in_week_nights_cat` and `stays_in_weekend_nights_cat`\n",
    "hotel = hotel.drop(['stays_in_week_nights','stays_in_weekend_nights'], axis=1)\n",
    "\n",
    "\n",
    "# dropping redundant columns that changed to boolean or categorical or in grouped attributes\n",
    "hotel = hotel.drop(['company','agent', 'lead_time', 'country', \n",
    "                    'previous_cancellations', 'required_car_parking_spaces'], axis=1)\n",
    "\n",
    "# dropping redundant columns `reservation_status` as it's nearly identical to `is_canceled` - the target in classification\n",
    "hotel = hotel.drop(['reservation_status'], axis=1)\n",
    "```"
   ]
  },
  {
   "cell_type": "markdown",
   "metadata": {},
   "source": [
    "# Data Preparation Part 2"
   ]
  },
  {
   "cell_type": "markdown",
   "metadata": {},
   "source": [
    "### Describe the final dataset that is used for classification/regression (descriptions of variables included)"
   ]
  },
  {
   "cell_type": "markdown",
   "metadata": {},
   "source": [
    "# Modeling and Evaluation 1"
   ]
  },
  {
   "cell_type": "markdown",
   "metadata": {},
   "source": [
    "#### Choose and explain your evaluation metrics you will use. Why are the measure(s) appropriate for analyzing the results of your modeling? Give a detailed explanation backing up any assertions."
   ]
  },
  {
   "cell_type": "markdown",
   "metadata": {},
   "source": [
    "> For our classification task, the target variable of cancelations versus non-cancelations is unbalanced (~30/70) so it will be a better choice to use F1 score - which is the harmonic mean of Recall and Precision - versus the single metrics themselves. We will also use accuracy to compare our model runs. \n",
    "\n",
    "> For our regression task we are going to predict length of stay (length_of_stay). We chose regression because the number of nights guests stayed at the hotel length_of_stay is a continous variable.   We will compare against the metrics of RMSE or mean absolute error. We will use RMSE because this metric penalizes large errors in the model (due to squaring first) and having a large error on a predicted length of stay may be catastrophic to the businesses uses of the model. "
   ]
  },
  {
   "cell_type": "markdown",
   "metadata": {},
   "source": [
    "# Modeling and Evaluation Part 2"
   ]
  },
  {
   "cell_type": "markdown",
   "metadata": {},
   "source": [
    "#### Choose the method you will use for dividing your data into training and testing splits (i.e., are you using Stratified 10-fold cross validation? Why?) Explain why your chosen method is appropriate or use more than one method as appropriate."
   ]
  },
  {
   "cell_type": "markdown",
   "metadata": {},
   "source": [
    "> We will measure the effectiveness of this classification model by using Stratified 10-fold cross validation. The count of cancelations versus non-cancelations is unbalanced (~30/70) and we want to make sure that each fold maintains the same balance as the source data.\n",
    "\n",
    "> We will measure the effectiveness of this regression model by using 10-fold cross validation."
   ]
  },
  {
   "cell_type": "markdown",
   "metadata": {},
   "source": [
    "# Modeling and Evaluation 3"
   ]
  },
  {
   "cell_type": "markdown",
   "metadata": {},
   "source": [
    "Create three different classification/regression models for each task (e.g., random forest, KNN, and SVM for task one and the same or different algorithms for task two). "
   ]
  },
  {
   "cell_type": "markdown",
   "metadata": {},
   "source": [
    "### Classification Task: KNN, Logistic, NB"
   ]
  },
  {
   "cell_type": "markdown",
   "metadata": {},
   "source": [
    "#### Feature Selection - Classification\n",
    "We will use a RandomForest and RFECV for classification for feature selection. For this, we will use `roc_auc` scoring."
   ]
  },
  {
   "cell_type": "code",
   "execution_count": 429,
   "metadata": {},
   "outputs": [
    {
     "name": "stdout",
     "output_type": "stream",
     "text": [
      "CPU times: user 4min 31s, sys: 2.63 s, total: 4min 34s\n",
      "Wall time: 20min 31s\n"
     ]
    },
    {
     "data": {
      "text/plain": [
       "RFECV(cv=StratifiedKFold(n_splits=10, random_state=42, shuffle=True),\n",
       "      estimator=RandomForestClassifier(n_jobs=-1, random_state=24), n_jobs=-1,\n",
       "      scoring='roc_auc')"
      ]
     },
     "execution_count": 429,
     "metadata": {},
     "output_type": "execute_result"
    }
   ],
   "source": [
    "%%time\n",
    "\n",
    "from sklearn.ensemble import RandomForestClassifier\n",
    "from sklearn.feature_selection import RFECV\n",
    "\n",
    "folds = StratifiedKFold(n_splits=10, shuffle=True, random_state=24)\n",
    "\n",
    "# Classification Task\n",
    "\n",
    "# RandomForest classifier used for feature selection for clf\n",
    "feat_select_estimator_clf = RandomForestClassifier(random_state=24, n_jobs=-1) \n",
    "\n",
    "rfecv_clf = RFECV(estimator=feat_select_estimator_clf,\n",
    "              cv=folds, \n",
    "              scoring = 'roc_auc',\n",
    "              n_jobs=-1)\n",
    "    \n",
    "\n",
    "\n",
    "rfecv_clf.fit(training_data_clf, training_target_clf.values.ravel())\n",
    "\n",
    "    # source:\n",
    "    # https://stackoverflow.com/questions/55609339/how-to-perform-feature-selection-with-gridsearchcv-in-sklearn-in-python"
   ]
  },
  {
   "cell_type": "code",
   "execution_count": 430,
   "metadata": {},
   "outputs": [
    {
     "name": "stdout",
     "output_type": "stream",
     "text": [
      "Optimal number of features for classification: 51\n",
      "Features for classification: ['arrival_date_week_number', 'adults', 'children', 'previous_bookings_not_canceled', 'booking_changes', 'days_in_waiting_list', 'adr', 'total_of_special_requests', 'length_of_stay', 'total_revenue', 'country_cancelation_rate', 'hotel_Resort Hotel', 'meal_FB', 'meal_HB', 'meal_SC', 'meal_Undefined', 'market_segment_Corporate', 'market_segment_Direct', 'market_segment_Groups', 'market_segment_Offline TA/TO', 'market_segment_Online TA', 'distribution_channel_Direct', 'distribution_channel_TA/TO', 'reserved_room_type_B', 'reserved_room_type_C', 'reserved_room_type_D', 'reserved_room_type_E', 'reserved_room_type_F', 'reserved_room_type_G', 'assigned_room_type_B', 'assigned_room_type_C', 'assigned_room_type_D', 'assigned_room_type_E', 'assigned_room_type_F', 'assigned_room_type_G', 'assigned_room_type_H', 'deposit_type_Non Refund', 'customer_type_Transient', 'customer_type_Transient-Party', 'stays_in_week_nights_bool_1', 'stays_in_weekend_nights_bool_1', 'company_booking_bool_1', 'used_agent_bool_1', 'right_room_bool_1', 'previously_canceled_bool_1', 'lead_time_cat_booked_6_mnths_out', 'lead_time_cat_booked_long', 'lead_time_cat_booked_mnth_out', 'lead_time_cat_booked_wk_out', 'country_group_cat_top_ten', 'parking_space_required_bool_1']\n"
     ]
    }
   ],
   "source": [
    "print(f'Optimal number of features for classification: {rfecv_clf.n_features_}')\n",
    "features_clf=list(training_data_clf.columns[rfecv_clf.support_])\n",
    "print(f'Features for classification: {features_clf}')"
   ]
  },
  {
   "cell_type": "code",
   "execution_count": 431,
   "metadata": {},
   "outputs": [],
   "source": [
    "###################### MIGHT JUST BE ABLE TO USE THE rfecv_clf AS ESTIMATOR INSTEAD OF THIS HERE\n",
    "\n",
    "# filtering down the features for classification\n",
    "training_data_clf = training_data_clf[features_clf]\n",
    "validation_data_clf = validation_data_clf[features_clf]\n",
    "test_data_clf = test_data_clf[features_clf]"
   ]
  },
  {
   "cell_type": "markdown",
   "metadata": {},
   "source": [
    "### Regression Task: KNN, OLS, Random Forest"
   ]
  },
  {
   "cell_type": "markdown",
   "metadata": {},
   "source": [
    "#### Feature Selection - Regression\n",
    "We will use a Ridge Regresssion and RFECV for regression feature selection. For this, we will use `neg_root_mean_squared_error` scoring."
   ]
  },
  {
   "cell_type": "code",
   "execution_count": 435,
   "metadata": {},
   "outputs": [
    {
     "name": "stdout",
     "output_type": "stream",
     "text": [
      "CPU times: user 231 ms, sys: 204 ms, total: 435 ms\n",
      "Wall time: 11.7 s\n"
     ]
    },
    {
     "data": {
      "text/plain": [
       "RFECV(cv=StratifiedKFold(n_splits=10, random_state=42, shuffle=True),\n",
       "      estimator=Ridge(random_state=24), n_jobs=-1,\n",
       "      scoring='neg_root_mean_squared_error')"
      ]
     },
     "execution_count": 435,
     "metadata": {},
     "output_type": "execute_result"
    }
   ],
   "source": [
    "%%time\n",
    "\n",
    "from sklearn.linear_model import Ridge\n",
    "\n",
    "# Regression Task\n",
    "\n",
    "# Ridge Regression used for feature selection for reg\n",
    "feat_select_estimator_reg = Ridge(random_state=24) \n",
    "\n",
    "rfecv_reg = RFECV(estimator=feat_select_estimator_reg,\n",
    "              cv=folds, \n",
    "              scoring = 'neg_root_mean_squared_error',\n",
    "              n_jobs=-1)\n",
    "    \n",
    "rfecv_reg.fit(training_data_reg, training_target_reg.values.ravel())"
   ]
  },
  {
   "cell_type": "code",
   "execution_count": 436,
   "metadata": {},
   "outputs": [
    {
     "name": "stdout",
     "output_type": "stream",
     "text": [
      "Optimal number of features for regression: 59\n",
      "Features for regresion: ['adults', 'children', 'previous_bookings_not_canceled', 'booking_changes', 'days_in_waiting_list', 'adr', 'total_of_special_requests', 'total_revenue', 'country_cancelation_rate', 'hotel_Resort Hotel', 'is_canceled_1', 'meal_FB', 'meal_HB', 'meal_SC', 'meal_Undefined', 'market_segment_Complementary', 'market_segment_Corporate', 'market_segment_Direct', 'market_segment_Groups', 'market_segment_Offline TA/TO', 'market_segment_Online TA', 'market_segment_Undefined', 'distribution_channel_Direct', 'distribution_channel_GDS', 'distribution_channel_TA/TO', 'distribution_channel_Undefined', 'reserved_room_type_B', 'reserved_room_type_C', 'reserved_room_type_D', 'reserved_room_type_E', 'reserved_room_type_F', 'reserved_room_type_L', 'reserved_room_type_P', 'assigned_room_type_C', 'assigned_room_type_D', 'assigned_room_type_E', 'assigned_room_type_F', 'assigned_room_type_G', 'assigned_room_type_H', 'assigned_room_type_I', 'assigned_room_type_K', 'assigned_room_type_L', 'assigned_room_type_P', 'deposit_type_Non Refund', 'deposit_type_Refundable', 'customer_type_Group', 'customer_type_Transient', 'customer_type_Transient-Party', 'stays_in_week_nights_bool_1', 'stays_in_weekend_nights_bool_1', 'company_booking_bool_1', 'used_agent_bool_1', 'right_room_bool_1', 'previously_canceled_bool_1', 'lead_time_cat_booked_6_mnths_out', 'lead_time_cat_booked_long', 'lead_time_cat_booked_mnth_out', 'lead_time_cat_booked_wk_out', 'parking_space_required_bool_1']\n"
     ]
    }
   ],
   "source": [
    "print(f'Optimal number of features for regression: {rfecv_reg.n_features_}')\n",
    "features_reg=list(training_data_reg.columns[rfecv_reg.support_])\n",
    "print(f'Features for regresion: {features_reg}')"
   ]
  },
  {
   "cell_type": "code",
   "execution_count": 437,
   "metadata": {},
   "outputs": [],
   "source": [
    "# filtering down the features for regression\n",
    "training_data_reg = training_data_reg[features_reg]\n",
    "validation_data_reg = validation_data_reg[features_reg]\n",
    "test_data_reg = test_data_reg[features_reg]"
   ]
  },
  {
   "cell_type": "markdown",
   "metadata": {},
   "source": [
    "#### Adjust parameters as appropriate to increase generalization performance using your chosen metric. You must investigate different parameters of the algorithms! (Hyperparameter tuning and gridsearchcv)"
   ]
  },
  {
   "cell_type": "markdown",
   "metadata": {},
   "source": [
    "# Modeling and Evaluation Part 4"
   ]
  },
  {
   "cell_type": "markdown",
   "metadata": {},
   "source": [
    "#### Analyze the results using your chosen method of evaluation. Use visualizations of the results to bolster the analysis. Explain any visuals and analyze why they are interesting to someone that might use this model"
   ]
  },
  {
   "cell_type": "markdown",
   "metadata": {},
   "source": [
    "> List of Visualizations:\n",
    ">    - ROC (Classification) \n",
    "\n",
    ">    - KNN Viz https://towardsdatascience.com/knn-visualization-in-just-13-lines-of-code-32820d72c6b6\n",
    "\n",
    ">    - SE Link for Regression Viz https://stats.stackexchange.com/questions/89747/how-to-describe-or-visualize-a-multiple-linear-regression-model\n",
    "\n",
    ">    - Confusion Matrices as heat maps (Classification) https://medium.com/@dtuk81/confusion-matrix-visualization-fc31e3f30fea\n",
    "\n",
    ">    - Correlation Matrix heat maps (Regression)\n",
    "    "
   ]
  },
  {
   "cell_type": "markdown",
   "metadata": {},
   "source": [
    "# Modeling and Evaluation Part 5"
   ]
  },
  {
   "cell_type": "markdown",
   "metadata": {},
   "source": [
    "### Discuss the advantages of each model for each classification task, if any. If there are not advantages, explain why. Is any model better than another?"
   ]
  },
  {
   "cell_type": "markdown",
   "metadata": {},
   "source": [
    "> Better on Metrics?\n",
    "\n",
    "> Better on Time?\n",
    "\n",
    "> Sparse vs Non\n",
    "\n",
    "> Model Specific https://www.quora.com/What-are-the-advantages-of-different-classification-algorithms, https://discuss.analyticsvidhya.com/t/which-one-to-use-randomforest-vs-svm-vs-knn/2897/3, https://towardsdatascience.com/comparative-study-on-classic-machine-learning-algorithms-24f9ff6ab222"
   ]
  },
  {
   "cell_type": "markdown",
   "metadata": {},
   "source": [
    "####  Is the difference significant with 95% confidence? proper statistical comparison methods. You must use statistical comparison techniques—be sure they are appropriate for your chosen method of validation as discussed in unit 7 of the course."
   ]
  },
  {
   "cell_type": "markdown",
   "metadata": {},
   "source": [
    "> Comparing on Statistics: https://machinelearningmastery.com/statistical-significance-tests-for-comparing-machine-learning-algorithms/"
   ]
  },
  {
   "cell_type": "markdown",
   "metadata": {},
   "source": [
    "# Modeling and Evaluation Part 6"
   ]
  },
  {
   "cell_type": "markdown",
   "metadata": {},
   "source": [
    "### Which attributes from your analysis are most important? Use proper methods discussed in class to evaluate the importance of different attributes. Discuss the results and hypothesize about why certain attributes are more important than others for a given classification task\n",
    "\n",
    "### Do we need to this for every model iteration? ASK HIM ON THURSDAY"
   ]
  },
  {
   "cell_type": "markdown",
   "metadata": {},
   "source": [
    "# Deployment NEIL GOT THIS"
   ]
  },
  {
   "cell_type": "markdown",
   "metadata": {},
   "source": [
    "### How useful is your model for interested parties (i.e., the companies or organizations that might want to use it for prediction)?"
   ]
  },
  {
   "cell_type": "markdown",
   "metadata": {},
   "source": [
    "> Have a discussion about scope of use"
   ]
  },
  {
   "cell_type": "markdown",
   "metadata": {},
   "source": [
    "### How would you measure the model's value if it was used by these parties?"
   ]
  },
  {
   "cell_type": "markdown",
   "metadata": {},
   "source": [
    "###  How would your deploy your model for interested parties? What other datashould be collected? How often would the model need to be updated, etc.?"
   ]
  },
  {
   "cell_type": "markdown",
   "metadata": {},
   "source": [
    "# Exceptional Work"
   ]
  },
  {
   "cell_type": "code",
   "execution_count": null,
   "metadata": {},
   "outputs": [],
   "source": []
  },
  {
   "cell_type": "code",
   "execution_count": null,
   "metadata": {},
   "outputs": [],
   "source": []
  }
 ],
 "metadata": {
  "kernelspec": {
   "display_name": "Python 3",
   "language": "python",
   "name": "python3"
  },
  "language_info": {
   "codemirror_mode": {
    "name": "ipython",
    "version": 3
   },
   "file_extension": ".py",
   "mimetype": "text/x-python",
   "name": "python",
   "nbconvert_exporter": "python",
   "pygments_lexer": "ipython3",
   "version": "3.7.7"
  }
 },
 "nbformat": 4,
 "nbformat_minor": 4
}
